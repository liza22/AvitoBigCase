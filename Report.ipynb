{
 "cells": [
  {
   "cell_type": "markdown",
   "metadata": {},
   "source": [
    "## Описание эксперимента"
   ]
  },
  {
   "cell_type": "markdown",
   "metadata": {},
   "source": [
    "Для Авито важно, чтобы пользователи проходили врификацию аккаунтов.\n",
    "\n",
    "Существует инструмент мотивации - верифицированные аккаунты помечаются специальным значком в профиле и объявлении.\n",
    "\n",
    "В эксперименте тестировались новые способы мотивации пользователей пройти верификацию. Дата начала эксперимента = 2021-09-15.\n",
    "\n",
    "Пользователи были разделены на 3 группы. Первой группе приходила рассылка  о том, что если они верифицируют аккаунт - они получат значок, который привлекает внимание покупателей и приносит заказы (уже имеющийся функционал), двум другим приходила рассылка о том, что за верификацию кроме значка они получат также временную скидку на услуги на 30% и 60% соответственно.\n",
    "\n",
    "Основная <b>идея эксперимента</b>, которую хотим проверить: продавцы будут охотнее верифицировать свой аккаунт, если выдавать им скидку на услуги Авито за прохождение верификации. "
   ]
  },
  {
   "cell_type": "markdown",
   "metadata": {},
   "source": [
    "## Гипотезы\n",
    "\n",
    "Определим продуктовые гипотезы, которые хотим проверить этим экспериментом.\n",
    "\n",
    "1. Для групп, получающих скидку, конверсия из получения рассылки в прохождение верификации больше, чем для группы без скидки\n",
    "2. Для группы, получающей скидку 60%, конверсия из получения рассылки в прохождение верификации больше, чем для группы, получающей скидку 30%\n",
    "3. Доход с одного пользователя(от покупки услуг) для групп, получающих скидку, больше, чем для группы без скидки\n",
    "4. Для группы, получающей скидку 30%, доход с одного пользователя больше, чем для группы, получающей скидку 60%\n",
    "5. Кол-во транзакций пользователя для групп, получающих скидку, больше, чем для группы без скидки\n",
    "6. Для группы, получающей скидку 30%, кол-во транзакций пользователя меньше, чем для группы, получающей скидку 60%\n",
    "\n",
    "Более формально, в каждом из пунктов ставится нулевая гипотеза о равенстве соответствующей метрики в подгруппах и альтернатива, описанная в продуктовой гипотезе."
   ]
  },
  {
   "cell_type": "markdown",
   "metadata": {},
   "source": [
    "## Выводы по результатам эксперимента\n",
    "\n",
    "Здесь для удобства вынесены общие выводы, полученные после анализа эксперимента. Процесс самого анализа описан в следующих пунктах.\n",
    "\n",
    "<b>Формально:</b>\n",
    "\n",
    "Для пунктов 1 и 2 нулевые гипотезы отверглись.\n",
    "\n",
    "Для пунктов 3-6 не можем отвергнуть нулевую гипотезу о равенстве на уровне значимости 5%.\n",
    "\n",
    "<b>С точки зрения бизнеса:</b>\n",
    "\n",
    "Группа со скидкой 30% оказалась неудачной, конверсия в ней меньше, чем для группы со скидкой 60%, при этом выручка и число транзакций тоже меньше, но не статистически значимо.\n",
    "\n",
    "Группа со скидкой 60% немного просаживает метрики выручки и числа транзакций по сравнению с группой без скидки, но опять же не стат. значимо. Зато стат. значимо поднимает конверсию в верификацию.\n",
    "\n",
    "Таким образом, идею выдавать временную скидку в 60% за прохождение верификации можно считать удачной."
   ]
  },
  {
   "cell_type": "markdown",
   "metadata": {},
   "source": [
    "## Техническая часть\n",
    "Импорт необходимых библиотек и подключение к базе"
   ]
  },
  {
   "cell_type": "code",
   "execution_count": 1,
   "metadata": {},
   "outputs": [],
   "source": [
    "import psycopg2\n",
    "import pandas as pd\n",
    "import pandas.io.sql as sqlio\n",
    "import matplotlib.pyplot as plt\n",
    "import datetime\n",
    "from scipy.stats import binomtest, multinomial\n",
    "import numpy as np\n",
    "import math\n",
    "import seaborn as sns\n",
    "import json\n",
    "from statsmodels.stats.multitest import multipletests\n",
    "from scipy.stats import ttest_ind"
   ]
  },
  {
   "cell_type": "code",
   "execution_count": 2,
   "metadata": {},
   "outputs": [],
   "source": [
    "with open('credentials.json', 'r') as json_file:\n",
    "    credentials = json.load(json_file)\n",
    "\n",
    "connection = psycopg2.connect(database=\"postgres\",\n",
    "                              user=credentials.get('user'),\n",
    "                              password=credentials.get('password'),\n",
    "                              host=credentials.get('host'),\n",
    "                              port=credentials.get('port'))\n",
    "cursor = connection.cursor()"
   ]
  },
  {
   "cell_type": "code",
   "execution_count": 3,
   "metadata": {},
   "outputs": [],
   "source": [
    "START_DATE = datetime.datetime.strptime('2021-09-15', \"%Y-%m-%d\").date()"
   ]
  },
  {
   "cell_type": "markdown",
   "metadata": {},
   "source": [
    "Выгрузка данных"
   ]
  },
  {
   "cell_type": "code",
   "execution_count": 4,
   "metadata": {},
   "outputs": [
    {
     "name": "stderr",
     "output_type": "stream",
     "text": [
      "C:\\Users\\liza-\\AppData\\Local\\Temp\\ipykernel_3540\\3448827113.py:2: UserWarning: pandas only supports SQLAlchemy connectable (engine/connection) or database string URI or sqlite3 DBAPI2 connection. Other DBAPI2 objects are not tested. Please consider using SQLAlchemy.\n",
      "  groups = sqlio.read_sql_query(sql1, connection)\n"
     ]
    }
   ],
   "source": [
    "sql1 = \"SELECT * from PUBLIC.services_verification_experiment_segment\"\n",
    "groups = sqlio.read_sql_query(sql1, connection)\n",
    "groups['RegistrationTime'] = groups['RegistrationTime'].apply(lambda x: x.date())"
   ]
  },
  {
   "cell_type": "code",
   "execution_count": 5,
   "metadata": {},
   "outputs": [
    {
     "name": "stderr",
     "output_type": "stream",
     "text": [
      "C:\\Users\\liza-\\AppData\\Local\\Temp\\ipykernel_3540\\3588913436.py:7: UserWarning: pandas only supports SQLAlchemy connectable (engine/connection) or database string URI or sqlite3 DBAPI2 connection. Other DBAPI2 objects are not tested. Please consider using SQLAlchemy.\n",
      "  items_before = sqlio.read_sql_query(sql2, connection)\n"
     ]
    }
   ],
   "source": [
    "sql2 = f\"\"\"\n",
    "    SELECT user_id, item_region, count(item_id) as item_count\n",
    "    FROM PUBLIC.user_item_info\n",
    "    WHERE item_creation_time < '{START_DATE}'\n",
    "    GROUP BY user_id, item_region\n",
    "\"\"\"\n",
    "items_before = sqlio.read_sql_query(sql2, connection)"
   ]
  },
  {
   "cell_type": "code",
   "execution_count": 6,
   "metadata": {},
   "outputs": [
    {
     "name": "stderr",
     "output_type": "stream",
     "text": [
      "C:\\Users\\liza-\\AppData\\Local\\Temp\\ipykernel_3540\\2188067215.py:7: UserWarning: pandas only supports SQLAlchemy connectable (engine/connection) or database string URI or sqlite3 DBAPI2 connection. Other DBAPI2 objects are not tested. Please consider using SQLAlchemy.\n",
      "  items_after = sqlio.read_sql_query(sql3, connection)\n"
     ]
    }
   ],
   "source": [
    "sql3 = f\"\"\"\n",
    "    SELECT user_id, item_region, count(item_id) as item_count\n",
    "    FROM PUBLIC.user_item_info\n",
    "    WHERE item_creation_time >= '{START_DATE}'\n",
    "    GROUP BY user_id, item_region\n",
    "\"\"\"\n",
    "items_after = sqlio.read_sql_query(sql3, connection)"
   ]
  },
  {
   "cell_type": "code",
   "execution_count": 7,
   "metadata": {},
   "outputs": [
    {
     "name": "stderr",
     "output_type": "stream",
     "text": [
      "C:\\Users\\liza-\\AppData\\Local\\Temp\\ipykernel_3540\\2996437178.py:6: UserWarning: pandas only supports SQLAlchemy connectable (engine/connection) or database string URI or sqlite3 DBAPI2 connection. Other DBAPI2 objects are not tested. Please consider using SQLAlchemy.\n",
      "  verifications = sqlio.read_sql_query(sql4, connection)\n"
     ]
    }
   ],
   "source": [
    "sql4 = \"\"\"\n",
    "    SELECT user_id, max(discount_day) as verification_day\n",
    "    FROM PUBLIC.services_verification_discounts\n",
    "    GROUP BY user_id\n",
    "\"\"\"\n",
    "verifications = sqlio.read_sql_query(sql4, connection)"
   ]
  },
  {
   "cell_type": "code",
   "execution_count": 8,
   "metadata": {},
   "outputs": [
    {
     "name": "stderr",
     "output_type": "stream",
     "text": [
      "C:\\Users\\liza-\\AppData\\Local\\Temp\\ipykernel_3540\\354401185.py:6: UserWarning: pandas only supports SQLAlchemy connectable (engine/connection) or database string URI or sqlite3 DBAPI2 connection. Other DBAPI2 objects are not tested. Please consider using SQLAlchemy.\n",
      "  payments_after = sqlio.read_sql_query(sql5, connection)\n",
      "C:\\Users\\liza-\\AppData\\Local\\Temp\\ipykernel_3540\\354401185.py:13: UserWarning: pandas only supports SQLAlchemy connectable (engine/connection) or database string URI or sqlite3 DBAPI2 connection. Other DBAPI2 objects are not tested. Please consider using SQLAlchemy.\n",
      "  payments_before = sqlio.read_sql_query(sql6, connection)\n"
     ]
    }
   ],
   "source": [
    "sql5 = f\"\"\"\n",
    "    SELECT *\n",
    "    FROM PUBLIC.user_payments_info\n",
    "    WHERE event_time >= '{START_DATE}'\n",
    "\"\"\"\n",
    "payments_after = sqlio.read_sql_query(sql5, connection)\n",
    "\n",
    "sql6 = f\"\"\"\n",
    "    SELECT *\n",
    "    FROM PUBLIC.user_payments_info\n",
    "    WHERE event_time < '{START_DATE}'\n",
    "\"\"\"\n",
    "payments_before = sqlio.read_sql_query(sql6, connection)"
   ]
  },
  {
   "cell_type": "markdown",
   "metadata": {},
   "source": [
    "## Данные"
   ]
  },
  {
   "cell_type": "markdown",
   "metadata": {},
   "source": [
    "Распределение пользователей по группам"
   ]
  },
  {
   "cell_type": "code",
   "execution_count": 9,
   "metadata": {},
   "outputs": [
    {
     "data": {
      "text/html": [
       "<div>\n",
       "<style scoped>\n",
       "    .dataframe tbody tr th:only-of-type {\n",
       "        vertical-align: middle;\n",
       "    }\n",
       "\n",
       "    .dataframe tbody tr th {\n",
       "        vertical-align: top;\n",
       "    }\n",
       "\n",
       "    .dataframe thead th {\n",
       "        text-align: right;\n",
       "    }\n",
       "</style>\n",
       "<table border=\"1\" class=\"dataframe\">\n",
       "  <thead>\n",
       "    <tr style=\"text-align: right;\">\n",
       "      <th></th>\n",
       "      <th>user_id</th>\n",
       "      <th>experiment_group</th>\n",
       "      <th>UserType</th>\n",
       "      <th>RegistrationTime</th>\n",
       "    </tr>\n",
       "  </thead>\n",
       "  <tbody>\n",
       "    <tr>\n",
       "      <th>0</th>\n",
       "      <td>379831899</td>\n",
       "      <td>no_discount</td>\n",
       "      <td>Private</td>\n",
       "      <td>2011-09-29</td>\n",
       "    </tr>\n",
       "    <tr>\n",
       "      <th>1</th>\n",
       "      <td>379840344</td>\n",
       "      <td>no_discount</td>\n",
       "      <td>Private</td>\n",
       "      <td>2010-12-13</td>\n",
       "    </tr>\n",
       "    <tr>\n",
       "      <th>2</th>\n",
       "      <td>379840883</td>\n",
       "      <td>no_discount</td>\n",
       "      <td>Private</td>\n",
       "      <td>2012-06-12</td>\n",
       "    </tr>\n",
       "    <tr>\n",
       "      <th>3</th>\n",
       "      <td>379843930</td>\n",
       "      <td>30_discount</td>\n",
       "      <td>Company</td>\n",
       "      <td>2011-01-11</td>\n",
       "    </tr>\n",
       "    <tr>\n",
       "      <th>4</th>\n",
       "      <td>379856281</td>\n",
       "      <td>60_discount</td>\n",
       "      <td>Private</td>\n",
       "      <td>2012-10-02</td>\n",
       "    </tr>\n",
       "  </tbody>\n",
       "</table>\n",
       "</div>"
      ],
      "text/plain": [
       "     user_id experiment_group UserType RegistrationTime\n",
       "0  379831899      no_discount  Private       2011-09-29\n",
       "1  379840344      no_discount  Private       2010-12-13\n",
       "2  379840883      no_discount  Private       2012-06-12\n",
       "3  379843930      30_discount  Company       2011-01-11\n",
       "4  379856281      60_discount  Private       2012-10-02"
      ]
     },
     "execution_count": 9,
     "metadata": {},
     "output_type": "execute_result"
    }
   ],
   "source": [
    "groups.head()"
   ]
  },
  {
   "cell_type": "markdown",
   "metadata": {},
   "source": [
    "Статистика объявлений для пользователей (польователь, регион, кол-во объявлений) за период до начала эксперимента. "
   ]
  },
  {
   "cell_type": "code",
   "execution_count": 10,
   "metadata": {},
   "outputs": [
    {
     "data": {
      "text/html": [
       "<div>\n",
       "<style scoped>\n",
       "    .dataframe tbody tr th:only-of-type {\n",
       "        vertical-align: middle;\n",
       "    }\n",
       "\n",
       "    .dataframe tbody tr th {\n",
       "        vertical-align: top;\n",
       "    }\n",
       "\n",
       "    .dataframe thead th {\n",
       "        text-align: right;\n",
       "    }\n",
       "</style>\n",
       "<table border=\"1\" class=\"dataframe\">\n",
       "  <thead>\n",
       "    <tr style=\"text-align: right;\">\n",
       "      <th></th>\n",
       "      <th>user_id</th>\n",
       "      <th>item_region</th>\n",
       "      <th>item_count</th>\n",
       "    </tr>\n",
       "  </thead>\n",
       "  <tbody>\n",
       "    <tr>\n",
       "      <th>0</th>\n",
       "      <td>1</td>\n",
       "      <td>39</td>\n",
       "      <td>242</td>\n",
       "    </tr>\n",
       "    <tr>\n",
       "      <th>1</th>\n",
       "      <td>1</td>\n",
       "      <td>75</td>\n",
       "      <td>218</td>\n",
       "    </tr>\n",
       "    <tr>\n",
       "      <th>2</th>\n",
       "      <td>16</td>\n",
       "      <td>25</td>\n",
       "      <td>39</td>\n",
       "    </tr>\n",
       "    <tr>\n",
       "      <th>3</th>\n",
       "      <td>101</td>\n",
       "      <td>18</td>\n",
       "      <td>1</td>\n",
       "    </tr>\n",
       "    <tr>\n",
       "      <th>4</th>\n",
       "      <td>101</td>\n",
       "      <td>19</td>\n",
       "      <td>1</td>\n",
       "    </tr>\n",
       "  </tbody>\n",
       "</table>\n",
       "</div>"
      ],
      "text/plain": [
       "   user_id item_region  item_count\n",
       "0        1          39         242\n",
       "1        1          75         218\n",
       "2       16          25          39\n",
       "3      101          18           1\n",
       "4      101          19           1"
      ]
     },
     "execution_count": 10,
     "metadata": {},
     "output_type": "execute_result"
    }
   ],
   "source": [
    "items_before.head()"
   ]
  },
  {
   "cell_type": "markdown",
   "metadata": {},
   "source": [
    "Статистика объявлений для пользователей после начала эксперимента."
   ]
  },
  {
   "cell_type": "code",
   "execution_count": 11,
   "metadata": {},
   "outputs": [
    {
     "data": {
      "text/html": [
       "<div>\n",
       "<style scoped>\n",
       "    .dataframe tbody tr th:only-of-type {\n",
       "        vertical-align: middle;\n",
       "    }\n",
       "\n",
       "    .dataframe tbody tr th {\n",
       "        vertical-align: top;\n",
       "    }\n",
       "\n",
       "    .dataframe thead th {\n",
       "        text-align: right;\n",
       "    }\n",
       "</style>\n",
       "<table border=\"1\" class=\"dataframe\">\n",
       "  <thead>\n",
       "    <tr style=\"text-align: right;\">\n",
       "      <th></th>\n",
       "      <th>user_id</th>\n",
       "      <th>item_region</th>\n",
       "      <th>item_count</th>\n",
       "    </tr>\n",
       "  </thead>\n",
       "  <tbody>\n",
       "    <tr>\n",
       "      <th>0</th>\n",
       "      <td>1</td>\n",
       "      <td>39</td>\n",
       "      <td>43</td>\n",
       "    </tr>\n",
       "    <tr>\n",
       "      <th>1</th>\n",
       "      <td>16</td>\n",
       "      <td>25</td>\n",
       "      <td>3</td>\n",
       "    </tr>\n",
       "    <tr>\n",
       "      <th>2</th>\n",
       "      <td>101</td>\n",
       "      <td>28</td>\n",
       "      <td>1</td>\n",
       "    </tr>\n",
       "    <tr>\n",
       "      <th>3</th>\n",
       "      <td>101</td>\n",
       "      <td>41</td>\n",
       "      <td>1</td>\n",
       "    </tr>\n",
       "    <tr>\n",
       "      <th>4</th>\n",
       "      <td>101</td>\n",
       "      <td>42</td>\n",
       "      <td>1</td>\n",
       "    </tr>\n",
       "  </tbody>\n",
       "</table>\n",
       "</div>"
      ],
      "text/plain": [
       "   user_id item_region  item_count\n",
       "0        1          39          43\n",
       "1       16          25           3\n",
       "2      101          28           1\n",
       "3      101          41           1\n",
       "4      101          42           1"
      ]
     },
     "execution_count": 11,
     "metadata": {},
     "output_type": "execute_result"
    }
   ],
   "source": [
    "items_after.head()"
   ]
  },
  {
   "cell_type": "markdown",
   "metadata": {},
   "source": [
    "Информация о дате верификации аккаунта"
   ]
  },
  {
   "cell_type": "code",
   "execution_count": 12,
   "metadata": {},
   "outputs": [
    {
     "data": {
      "text/html": [
       "<div>\n",
       "<style scoped>\n",
       "    .dataframe tbody tr th:only-of-type {\n",
       "        vertical-align: middle;\n",
       "    }\n",
       "\n",
       "    .dataframe tbody tr th {\n",
       "        vertical-align: top;\n",
       "    }\n",
       "\n",
       "    .dataframe thead th {\n",
       "        text-align: right;\n",
       "    }\n",
       "</style>\n",
       "<table border=\"1\" class=\"dataframe\">\n",
       "  <thead>\n",
       "    <tr style=\"text-align: right;\">\n",
       "      <th></th>\n",
       "      <th>user_id</th>\n",
       "      <th>verification_day</th>\n",
       "    </tr>\n",
       "  </thead>\n",
       "  <tbody>\n",
       "    <tr>\n",
       "      <th>0</th>\n",
       "      <td>350226250002</td>\n",
       "      <td>2021-09-30</td>\n",
       "    </tr>\n",
       "    <tr>\n",
       "      <th>1</th>\n",
       "      <td>786028000097</td>\n",
       "      <td>2021-09-19</td>\n",
       "    </tr>\n",
       "    <tr>\n",
       "      <th>2</th>\n",
       "      <td>248318750121</td>\n",
       "      <td>2021-09-22</td>\n",
       "    </tr>\n",
       "    <tr>\n",
       "      <th>3</th>\n",
       "      <td>151512500036</td>\n",
       "      <td>2021-09-17</td>\n",
       "    </tr>\n",
       "    <tr>\n",
       "      <th>4</th>\n",
       "      <td>1770870</td>\n",
       "      <td>2021-09-17</td>\n",
       "    </tr>\n",
       "  </tbody>\n",
       "</table>\n",
       "</div>"
      ],
      "text/plain": [
       "        user_id verification_day\n",
       "0  350226250002       2021-09-30\n",
       "1  786028000097       2021-09-19\n",
       "2  248318750121       2021-09-22\n",
       "3  151512500036       2021-09-17\n",
       "4       1770870       2021-09-17"
      ]
     },
     "execution_count": 12,
     "metadata": {},
     "output_type": "execute_result"
    }
   ],
   "source": [
    "verifications.head()"
   ]
  },
  {
   "cell_type": "markdown",
   "metadata": {},
   "source": [
    "Транзакции покупки услуг пользоветлями до и после начала эксперимента"
   ]
  },
  {
   "cell_type": "code",
   "execution_count": 13,
   "metadata": {},
   "outputs": [
    {
     "data": {
      "text/html": [
       "<div>\n",
       "<style scoped>\n",
       "    .dataframe tbody tr th:only-of-type {\n",
       "        vertical-align: middle;\n",
       "    }\n",
       "\n",
       "    .dataframe tbody tr th {\n",
       "        vertical-align: top;\n",
       "    }\n",
       "\n",
       "    .dataframe thead th {\n",
       "        text-align: right;\n",
       "    }\n",
       "</style>\n",
       "<table border=\"1\" class=\"dataframe\">\n",
       "  <thead>\n",
       "    <tr style=\"text-align: right;\">\n",
       "      <th></th>\n",
       "      <th>user_id</th>\n",
       "      <th>item_id</th>\n",
       "      <th>event_time</th>\n",
       "      <th>transaction_type</th>\n",
       "      <th>transaction_subtype</th>\n",
       "      <th>amount_net</th>\n",
       "    </tr>\n",
       "  </thead>\n",
       "  <tbody>\n",
       "    <tr>\n",
       "      <th>0</th>\n",
       "      <td>11015250077</td>\n",
       "      <td>1.122795e+12</td>\n",
       "      <td>2021-09-12 20:23:30</td>\n",
       "      <td>4</td>\n",
       "      <td>3</td>\n",
       "      <td>22.153846</td>\n",
       "    </tr>\n",
       "    <tr>\n",
       "      <th>1</th>\n",
       "      <td>144027250025</td>\n",
       "      <td>1.122799e+12</td>\n",
       "      <td>2021-09-12 18:27:55</td>\n",
       "      <td>4</td>\n",
       "      <td>3</td>\n",
       "      <td>55.692308</td>\n",
       "    </tr>\n",
       "    <tr>\n",
       "      <th>2</th>\n",
       "      <td>371165296</td>\n",
       "      <td>1.122822e+12</td>\n",
       "      <td>2021-09-12 19:19:56</td>\n",
       "      <td>4</td>\n",
       "      <td>3</td>\n",
       "      <td>23.307692</td>\n",
       "    </tr>\n",
       "    <tr>\n",
       "      <th>3</th>\n",
       "      <td>1599254</td>\n",
       "      <td>1.122825e+12</td>\n",
       "      <td>2021-09-12 18:48:17</td>\n",
       "      <td>4</td>\n",
       "      <td>3</td>\n",
       "      <td>20.769231</td>\n",
       "    </tr>\n",
       "    <tr>\n",
       "      <th>4</th>\n",
       "      <td>525663250063</td>\n",
       "      <td>1.122836e+12</td>\n",
       "      <td>2021-09-12 19:44:44</td>\n",
       "      <td>4</td>\n",
       "      <td>3</td>\n",
       "      <td>27.384615</td>\n",
       "    </tr>\n",
       "  </tbody>\n",
       "</table>\n",
       "</div>"
      ],
      "text/plain": [
       "        user_id       item_id          event_time transaction_type   \n",
       "0   11015250077  1.122795e+12 2021-09-12 20:23:30                4  \\\n",
       "1  144027250025  1.122799e+12 2021-09-12 18:27:55                4   \n",
       "2     371165296  1.122822e+12 2021-09-12 19:19:56                4   \n",
       "3       1599254  1.122825e+12 2021-09-12 18:48:17                4   \n",
       "4  525663250063  1.122836e+12 2021-09-12 19:44:44                4   \n",
       "\n",
       "  transaction_subtype  amount_net  \n",
       "0                   3   22.153846  \n",
       "1                   3   55.692308  \n",
       "2                   3   23.307692  \n",
       "3                   3   20.769231  \n",
       "4                   3   27.384615  "
      ]
     },
     "execution_count": 13,
     "metadata": {},
     "output_type": "execute_result"
    }
   ],
   "source": [
    "payments_before.head()"
   ]
  },
  {
   "cell_type": "code",
   "execution_count": 14,
   "metadata": {},
   "outputs": [
    {
     "data": {
      "text/html": [
       "<div>\n",
       "<style scoped>\n",
       "    .dataframe tbody tr th:only-of-type {\n",
       "        vertical-align: middle;\n",
       "    }\n",
       "\n",
       "    .dataframe tbody tr th {\n",
       "        vertical-align: top;\n",
       "    }\n",
       "\n",
       "    .dataframe thead th {\n",
       "        text-align: right;\n",
       "    }\n",
       "</style>\n",
       "<table border=\"1\" class=\"dataframe\">\n",
       "  <thead>\n",
       "    <tr style=\"text-align: right;\">\n",
       "      <th></th>\n",
       "      <th>user_id</th>\n",
       "      <th>item_id</th>\n",
       "      <th>event_time</th>\n",
       "      <th>transaction_type</th>\n",
       "      <th>transaction_subtype</th>\n",
       "      <th>amount_net</th>\n",
       "    </tr>\n",
       "  </thead>\n",
       "  <tbody>\n",
       "    <tr>\n",
       "      <th>0</th>\n",
       "      <td>372833007</td>\n",
       "      <td>1.123248e+12</td>\n",
       "      <td>2021-09-15 11:14:22</td>\n",
       "      <td>4</td>\n",
       "      <td>3</td>\n",
       "      <td>19.153846</td>\n",
       "    </tr>\n",
       "    <tr>\n",
       "      <th>1</th>\n",
       "      <td>461930000048</td>\n",
       "      <td>1.123269e+12</td>\n",
       "      <td>2021-09-19 15:12:39</td>\n",
       "      <td>4</td>\n",
       "      <td>3</td>\n",
       "      <td>37.769231</td>\n",
       "    </tr>\n",
       "    <tr>\n",
       "      <th>2</th>\n",
       "      <td>805185000028</td>\n",
       "      <td>1.123294e+12</td>\n",
       "      <td>2021-09-24 11:16:41</td>\n",
       "      <td>4</td>\n",
       "      <td>3</td>\n",
       "      <td>19.153846</td>\n",
       "    </tr>\n",
       "    <tr>\n",
       "      <th>3</th>\n",
       "      <td>842192500175</td>\n",
       "      <td>1.123334e+12</td>\n",
       "      <td>2021-09-17 15:48:46</td>\n",
       "      <td>4</td>\n",
       "      <td>3</td>\n",
       "      <td>57.615385</td>\n",
       "    </tr>\n",
       "    <tr>\n",
       "      <th>4</th>\n",
       "      <td>344087500599</td>\n",
       "      <td>1.123502e+12</td>\n",
       "      <td>2021-09-17 17:37:47</td>\n",
       "      <td>4</td>\n",
       "      <td>3</td>\n",
       "      <td>63.692308</td>\n",
       "    </tr>\n",
       "  </tbody>\n",
       "</table>\n",
       "</div>"
      ],
      "text/plain": [
       "        user_id       item_id          event_time transaction_type   \n",
       "0     372833007  1.123248e+12 2021-09-15 11:14:22                4  \\\n",
       "1  461930000048  1.123269e+12 2021-09-19 15:12:39                4   \n",
       "2  805185000028  1.123294e+12 2021-09-24 11:16:41                4   \n",
       "3  842192500175  1.123334e+12 2021-09-17 15:48:46                4   \n",
       "4  344087500599  1.123502e+12 2021-09-17 17:37:47                4   \n",
       "\n",
       "  transaction_subtype  amount_net  \n",
       "0                   3   19.153846  \n",
       "1                   3   37.769231  \n",
       "2                   3   19.153846  \n",
       "3                   3   57.615385  \n",
       "4                   3   63.692308  "
      ]
     },
     "execution_count": 14,
     "metadata": {},
     "output_type": "execute_result"
    }
   ],
   "source": [
    "payments_after.head()"
   ]
  },
  {
   "cell_type": "markdown",
   "metadata": {},
   "source": [
    "## Исследование данных\n",
    "Посмотрим на равномерность распределения пользователей на экспериментальные группы в разных разрезах."
   ]
  },
  {
   "cell_type": "markdown",
   "metadata": {},
   "source": [
    "Объединим данные"
   ]
  },
  {
   "cell_type": "code",
   "execution_count": 15,
   "metadata": {},
   "outputs": [
    {
     "data": {
      "text/html": [
       "<div>\n",
       "<style scoped>\n",
       "    .dataframe tbody tr th:only-of-type {\n",
       "        vertical-align: middle;\n",
       "    }\n",
       "\n",
       "    .dataframe tbody tr th {\n",
       "        vertical-align: top;\n",
       "    }\n",
       "\n",
       "    .dataframe thead th {\n",
       "        text-align: right;\n",
       "    }\n",
       "</style>\n",
       "<table border=\"1\" class=\"dataframe\">\n",
       "  <thead>\n",
       "    <tr style=\"text-align: right;\">\n",
       "      <th></th>\n",
       "      <th>user_id</th>\n",
       "      <th>experiment_group</th>\n",
       "      <th>UserType</th>\n",
       "      <th>RegistrationTime</th>\n",
       "      <th>verification_day</th>\n",
       "    </tr>\n",
       "  </thead>\n",
       "  <tbody>\n",
       "    <tr>\n",
       "      <th>0</th>\n",
       "      <td>379831899</td>\n",
       "      <td>no_discount</td>\n",
       "      <td>Private</td>\n",
       "      <td>2011-09-29</td>\n",
       "      <td>NaN</td>\n",
       "    </tr>\n",
       "    <tr>\n",
       "      <th>1</th>\n",
       "      <td>379840344</td>\n",
       "      <td>no_discount</td>\n",
       "      <td>Private</td>\n",
       "      <td>2010-12-13</td>\n",
       "      <td>NaN</td>\n",
       "    </tr>\n",
       "    <tr>\n",
       "      <th>2</th>\n",
       "      <td>379840883</td>\n",
       "      <td>no_discount</td>\n",
       "      <td>Private</td>\n",
       "      <td>2012-06-12</td>\n",
       "      <td>NaN</td>\n",
       "    </tr>\n",
       "    <tr>\n",
       "      <th>3</th>\n",
       "      <td>379843930</td>\n",
       "      <td>30_discount</td>\n",
       "      <td>Company</td>\n",
       "      <td>2011-01-11</td>\n",
       "      <td>NaN</td>\n",
       "    </tr>\n",
       "    <tr>\n",
       "      <th>4</th>\n",
       "      <td>379856281</td>\n",
       "      <td>60_discount</td>\n",
       "      <td>Private</td>\n",
       "      <td>2012-10-02</td>\n",
       "      <td>2021-10-10</td>\n",
       "    </tr>\n",
       "  </tbody>\n",
       "</table>\n",
       "</div>"
      ],
      "text/plain": [
       "     user_id experiment_group UserType RegistrationTime verification_day\n",
       "0  379831899      no_discount  Private       2011-09-29              NaN\n",
       "1  379840344      no_discount  Private       2010-12-13              NaN\n",
       "2  379840883      no_discount  Private       2012-06-12              NaN\n",
       "3  379843930      30_discount  Company       2011-01-11              NaN\n",
       "4  379856281      60_discount  Private       2012-10-02       2021-10-10"
      ]
     },
     "execution_count": 15,
     "metadata": {},
     "output_type": "execute_result"
    }
   ],
   "source": [
    "verifications = pd.merge(groups, verifications, how='left')\n",
    "verifications.head()"
   ]
  },
  {
   "cell_type": "code",
   "execution_count": 16,
   "metadata": {},
   "outputs": [
    {
     "data": {
      "text/html": [
       "<div>\n",
       "<style scoped>\n",
       "    .dataframe tbody tr th:only-of-type {\n",
       "        vertical-align: middle;\n",
       "    }\n",
       "\n",
       "    .dataframe tbody tr th {\n",
       "        vertical-align: top;\n",
       "    }\n",
       "\n",
       "    .dataframe thead th {\n",
       "        text-align: right;\n",
       "    }\n",
       "</style>\n",
       "<table border=\"1\" class=\"dataframe\">\n",
       "  <thead>\n",
       "    <tr style=\"text-align: right;\">\n",
       "      <th></th>\n",
       "      <th>user_id</th>\n",
       "      <th>experiment_group</th>\n",
       "      <th>UserType</th>\n",
       "      <th>RegistrationTime</th>\n",
       "      <th>item_region</th>\n",
       "      <th>item_count</th>\n",
       "    </tr>\n",
       "  </thead>\n",
       "  <tbody>\n",
       "    <tr>\n",
       "      <th>0</th>\n",
       "      <td>379831899</td>\n",
       "      <td>no_discount</td>\n",
       "      <td>Private</td>\n",
       "      <td>2011-09-29</td>\n",
       "      <td>15</td>\n",
       "      <td>81</td>\n",
       "    </tr>\n",
       "    <tr>\n",
       "      <th>1</th>\n",
       "      <td>379831899</td>\n",
       "      <td>no_discount</td>\n",
       "      <td>Private</td>\n",
       "      <td>2011-09-29</td>\n",
       "      <td>17</td>\n",
       "      <td>25</td>\n",
       "    </tr>\n",
       "    <tr>\n",
       "      <th>2</th>\n",
       "      <td>379831899</td>\n",
       "      <td>no_discount</td>\n",
       "      <td>Private</td>\n",
       "      <td>2011-09-29</td>\n",
       "      <td>25</td>\n",
       "      <td>23</td>\n",
       "    </tr>\n",
       "    <tr>\n",
       "      <th>3</th>\n",
       "      <td>379831899</td>\n",
       "      <td>no_discount</td>\n",
       "      <td>Private</td>\n",
       "      <td>2011-09-29</td>\n",
       "      <td>56</td>\n",
       "      <td>1</td>\n",
       "    </tr>\n",
       "    <tr>\n",
       "      <th>4</th>\n",
       "      <td>379831899</td>\n",
       "      <td>no_discount</td>\n",
       "      <td>Private</td>\n",
       "      <td>2011-09-29</td>\n",
       "      <td>62</td>\n",
       "      <td>1</td>\n",
       "    </tr>\n",
       "  </tbody>\n",
       "</table>\n",
       "</div>"
      ],
      "text/plain": [
       "     user_id experiment_group UserType RegistrationTime item_region   \n",
       "0  379831899      no_discount  Private       2011-09-29          15  \\\n",
       "1  379831899      no_discount  Private       2011-09-29          17   \n",
       "2  379831899      no_discount  Private       2011-09-29          25   \n",
       "3  379831899      no_discount  Private       2011-09-29          56   \n",
       "4  379831899      no_discount  Private       2011-09-29          62   \n",
       "\n",
       "   item_count  \n",
       "0          81  \n",
       "1          25  \n",
       "2          23  \n",
       "3           1  \n",
       "4           1  "
      ]
     },
     "execution_count": 16,
     "metadata": {},
     "output_type": "execute_result"
    }
   ],
   "source": [
    "data = pd.merge(groups, items_before)\n",
    "data.head()"
   ]
  },
  {
   "cell_type": "markdown",
   "metadata": {},
   "source": [
    "Для начала, надо проверить что каждый пользователь находится только в 1 группе теста."
   ]
  },
  {
   "cell_type": "code",
   "execution_count": 17,
   "metadata": {},
   "outputs": [
    {
     "data": {
      "text/html": [
       "<div>\n",
       "<style scoped>\n",
       "    .dataframe tbody tr th:only-of-type {\n",
       "        vertical-align: middle;\n",
       "    }\n",
       "\n",
       "    .dataframe tbody tr th {\n",
       "        vertical-align: top;\n",
       "    }\n",
       "\n",
       "    .dataframe thead th {\n",
       "        text-align: right;\n",
       "    }\n",
       "</style>\n",
       "<table border=\"1\" class=\"dataframe\">\n",
       "  <thead>\n",
       "    <tr style=\"text-align: right;\">\n",
       "      <th></th>\n",
       "      <th>user_id</th>\n",
       "      <th>experiment_group</th>\n",
       "    </tr>\n",
       "  </thead>\n",
       "  <tbody>\n",
       "  </tbody>\n",
       "</table>\n",
       "</div>"
      ],
      "text/plain": [
       "Empty DataFrame\n",
       "Columns: [user_id, experiment_group]\n",
       "Index: []"
      ]
     },
     "execution_count": 17,
     "metadata": {},
     "output_type": "execute_result"
    }
   ],
   "source": [
    "groups.groupby(by=['user_id'])[[\"user_id\", \"experiment_group\"]].filter(lambda x: len(x) > 1)"
   ]
  },
  {
   "cell_type": "markdown",
   "metadata": {},
   "source": [
    "Все в порядке."
   ]
  },
  {
   "cell_type": "markdown",
   "metadata": {},
   "source": [
    "#### По типу пользователя"
   ]
  },
  {
   "cell_type": "code",
   "execution_count": 18,
   "metadata": {},
   "outputs": [],
   "source": [
    "groups_by_types = data.groupby(by=['experiment_group', 'UserType'])[[\"user_id\"]].nunique().unstack(level=0)"
   ]
  },
  {
   "cell_type": "code",
   "execution_count": 19,
   "metadata": {},
   "outputs": [
    {
     "data": {
      "text/plain": [
       "<Axes: xlabel='UserType'>"
      ]
     },
     "execution_count": 19,
     "metadata": {},
     "output_type": "execute_result"
    },
    {
     "data": {
      "image/png": "[encoded data removed]",
      "text/plain": [
       "<Figure size 1000x600 with 1 Axes>"
      ]
     },
     "metadata": {},
     "output_type": "display_data"
    }
   ],
   "source": [
    "groups_by_types.plot.bar(figsize=(10, 6))"
   ]
  },
  {
   "cell_type": "markdown",
   "metadata": {},
   "source": [
    "Визуально кажется, что в каждой эксперименальной группе равное число пользователй каждого типа.\n",
    "\n",
    "Проверим с помощью биномильаного теста.\n",
    "Посчитаем суммарное кол-во пользователей без скидки в разных группах и общее кол-во в группе $n$. Проверим, насколько вероятно, что такое распределение могло получиться из биномиального распределения $Bin(n, p)$, где $p=\\frac{1}{3}$."
   ]
  },
  {
   "cell_type": "code",
   "execution_count": 20,
   "metadata": {},
   "outputs": [
    {
     "data": {
      "text/html": [
       "<style type=\"text/css\">\n",
       "#T_28e84_row0_col4, #T_28e84_row1_col4 {\n",
       "  background-color: orange;\n",
       "}\n",
       "#T_28e84_row2_col4 {\n",
       "  background-color: None;\n",
       "}\n",
       "</style>\n",
       "<table id=\"T_28e84\">\n",
       "  <thead>\n",
       "    <tr>\n",
       "      <th class=\"blank level0\" >&nbsp;</th>\n",
       "      <th id=\"T_28e84_level0_col0\" class=\"col_heading level0 col0\" colspan=\"3\">user_id</th>\n",
       "      <th id=\"T_28e84_level0_col3\" class=\"col_heading level0 col3\" >sum</th>\n",
       "      <th id=\"T_28e84_level0_col4\" class=\"col_heading level0 col4\" >pvalue</th>\n",
       "    </tr>\n",
       "    <tr>\n",
       "      <th class=\"index_name level1\" >experiment_group</th>\n",
       "      <th id=\"T_28e84_level1_col0\" class=\"col_heading level1 col0\" >30_discount</th>\n",
       "      <th id=\"T_28e84_level1_col1\" class=\"col_heading level1 col1\" >60_discount</th>\n",
       "      <th id=\"T_28e84_level1_col2\" class=\"col_heading level1 col2\" >no_discount</th>\n",
       "      <th id=\"T_28e84_level1_col3\" class=\"col_heading level1 col3\" ></th>\n",
       "      <th id=\"T_28e84_level1_col4\" class=\"col_heading level1 col4\" ></th>\n",
       "    </tr>\n",
       "    <tr>\n",
       "      <th class=\"index_name level0\" >UserType</th>\n",
       "      <th class=\"blank col0\" >&nbsp;</th>\n",
       "      <th class=\"blank col1\" >&nbsp;</th>\n",
       "      <th class=\"blank col2\" >&nbsp;</th>\n",
       "      <th class=\"blank col3\" >&nbsp;</th>\n",
       "      <th class=\"blank col4\" >&nbsp;</th>\n",
       "    </tr>\n",
       "  </thead>\n",
       "  <tbody>\n",
       "    <tr>\n",
       "      <th id=\"T_28e84_level0_row0\" class=\"row_heading level0 row0\" >Private</th>\n",
       "      <td id=\"T_28e84_row0_col0\" class=\"data row0 col0\" >230946</td>\n",
       "      <td id=\"T_28e84_row0_col1\" class=\"data row0 col1\" >230838</td>\n",
       "      <td id=\"T_28e84_row0_col2\" class=\"data row0 col2\" >232506</td>\n",
       "      <td id=\"T_28e84_row0_col3\" class=\"data row0 col3\" >694290</td>\n",
       "      <td id=\"T_28e84_row0_col4\" class=\"data row0 col4\" >0.006180</td>\n",
       "    </tr>\n",
       "    <tr>\n",
       "      <th id=\"T_28e84_level0_row1\" class=\"row_heading level0 row1\" >Company</th>\n",
       "      <td id=\"T_28e84_row1_col0\" class=\"data row1 col0\" >19537</td>\n",
       "      <td id=\"T_28e84_row1_col1\" class=\"data row1 col1\" >19380</td>\n",
       "      <td id=\"T_28e84_row1_col2\" class=\"data row1 col2\" >19833</td>\n",
       "      <td id=\"T_28e84_row1_col3\" class=\"data row1 col3\" >58750</td>\n",
       "      <td id=\"T_28e84_row1_col4\" class=\"data row1 col4\" >0.028992</td>\n",
       "    </tr>\n",
       "    <tr>\n",
       "      <th id=\"T_28e84_level0_row2\" class=\"row_heading level0 row2\" >Shop</th>\n",
       "      <td id=\"T_28e84_row2_col0\" class=\"data row2 col0\" >3180</td>\n",
       "      <td id=\"T_28e84_row2_col1\" class=\"data row2 col1\" >3223</td>\n",
       "      <td id=\"T_28e84_row2_col2\" class=\"data row2 col2\" >3287</td>\n",
       "      <td id=\"T_28e84_row2_col3\" class=\"data row2 col3\" >9690</td>\n",
       "      <td id=\"T_28e84_row2_col4\" class=\"data row2 col4\" >0.219333</td>\n",
       "    </tr>\n",
       "  </tbody>\n",
       "</table>\n"
      ],
      "text/plain": [
       "<pandas.io.formats.style.Styler at 0x1e941645de0>"
      ]
     },
     "execution_count": 20,
     "metadata": {},
     "output_type": "execute_result"
    }
   ],
   "source": [
    "groups_by_types['sum'] = (groups_by_types['user_id']['30_discount']\n",
    "                          + groups_by_types['user_id']['60_discount']\n",
    "                          + groups_by_types['user_id']['no_discount'])\n",
    "groups_by_types['pvalue'] = list(map(lambda x,y: binomtest(x, n=y, p=1/3).pvalue,\n",
    "                                     groups_by_types['user_id']['no_discount'],\n",
    "                                     groups_by_types['sum']))\n",
    "groups_by_types.sort_values('pvalue').style.applymap(lambda x: f\"background-color: {'orange' if x < 0.05 else None}\",\n",
    "                                                     subset=pd.IndexSlice[:, ['pvalue']])"
   ]
  },
  {
   "cell_type": "markdown",
   "metadata": {},
   "source": [
    "Биномиальный тест показывает, что для типов пользователей Private и Company распределение по группам неравномерное."
   ]
  },
  {
   "cell_type": "markdown",
   "metadata": {},
   "source": [
    "#### По региону пользователя"
   ]
  },
  {
   "cell_type": "markdown",
   "metadata": {},
   "source": [
    "Проведем такой же анализ в разрезе региона размещения объяявления."
   ]
  },
  {
   "cell_type": "code",
   "execution_count": 21,
   "metadata": {},
   "outputs": [],
   "source": [
    "groups_by_region = data.groupby(by=['item_region', 'experiment_group'])[[\"user_id\"]].nunique().unstack(level=1)\n",
    "groups_by_region['sum'] = (groups_by_region['user_id']['30_discount']\n",
    "                           + groups_by_region['user_id']['60_discount']\n",
    "                           + groups_by_region['user_id']['no_discount'])"
   ]
  },
  {
   "cell_type": "code",
   "execution_count": 22,
   "metadata": {
    "scrolled": true
   },
   "outputs": [
    {
     "data": {
      "text/html": [
       "<style type=\"text/css\">\n",
       "#T_0a56a_row0_col4, #T_0a56a_row1_col4, #T_0a56a_row2_col4, #T_0a56a_row3_col4 {\n",
       "  background-color: orange;\n",
       "}\n",
       "#T_0a56a_row4_col4, #T_0a56a_row5_col4, #T_0a56a_row6_col4, #T_0a56a_row7_col4, #T_0a56a_row8_col4, #T_0a56a_row9_col4, #T_0a56a_row10_col4, #T_0a56a_row11_col4, #T_0a56a_row12_col4, #T_0a56a_row13_col4, #T_0a56a_row14_col4, #T_0a56a_row15_col4, #T_0a56a_row16_col4, #T_0a56a_row17_col4, #T_0a56a_row18_col4, #T_0a56a_row19_col4, #T_0a56a_row20_col4, #T_0a56a_row21_col4, #T_0a56a_row22_col4, #T_0a56a_row23_col4, #T_0a56a_row24_col4, #T_0a56a_row25_col4, #T_0a56a_row26_col4, #T_0a56a_row27_col4, #T_0a56a_row28_col4, #T_0a56a_row29_col4, #T_0a56a_row30_col4, #T_0a56a_row31_col4, #T_0a56a_row32_col4, #T_0a56a_row33_col4, #T_0a56a_row34_col4, #T_0a56a_row35_col4, #T_0a56a_row36_col4, #T_0a56a_row37_col4, #T_0a56a_row38_col4, #T_0a56a_row39_col4, #T_0a56a_row40_col4, #T_0a56a_row41_col4, #T_0a56a_row42_col4, #T_0a56a_row43_col4, #T_0a56a_row44_col4, #T_0a56a_row45_col4, #T_0a56a_row46_col4, #T_0a56a_row47_col4, #T_0a56a_row48_col4, #T_0a56a_row49_col4, #T_0a56a_row50_col4, #T_0a56a_row51_col4, #T_0a56a_row52_col4, #T_0a56a_row53_col4, #T_0a56a_row54_col4, #T_0a56a_row55_col4, #T_0a56a_row56_col4, #T_0a56a_row57_col4, #T_0a56a_row58_col4, #T_0a56a_row59_col4, #T_0a56a_row60_col4, #T_0a56a_row61_col4, #T_0a56a_row62_col4, #T_0a56a_row63_col4, #T_0a56a_row64_col4, #T_0a56a_row65_col4, #T_0a56a_row66_col4, #T_0a56a_row67_col4, #T_0a56a_row68_col4, #T_0a56a_row69_col4, #T_0a56a_row70_col4, #T_0a56a_row71_col4, #T_0a56a_row72_col4, #T_0a56a_row73_col4, #T_0a56a_row74_col4, #T_0a56a_row75_col4, #T_0a56a_row76_col4, #T_0a56a_row77_col4, #T_0a56a_row78_col4, #T_0a56a_row79_col4, #T_0a56a_row80_col4, #T_0a56a_row81_col4, #T_0a56a_row82_col4, #T_0a56a_row83_col4, #T_0a56a_row84_col4 {\n",
       "  background-color: None;\n",
       "}\n",
       "</style>\n",
       "<table id=\"T_0a56a\">\n",
       "  <thead>\n",
       "    <tr>\n",
       "      <th class=\"blank level0\" >&nbsp;</th>\n",
       "      <th id=\"T_0a56a_level0_col0\" class=\"col_heading level0 col0\" colspan=\"3\">user_id</th>\n",
       "      <th id=\"T_0a56a_level0_col3\" class=\"col_heading level0 col3\" >sum</th>\n",
       "      <th id=\"T_0a56a_level0_col4\" class=\"col_heading level0 col4\" >pvalue</th>\n",
       "    </tr>\n",
       "    <tr>\n",
       "      <th class=\"index_name level1\" >experiment_group</th>\n",
       "      <th id=\"T_0a56a_level1_col0\" class=\"col_heading level1 col0\" >30_discount</th>\n",
       "      <th id=\"T_0a56a_level1_col1\" class=\"col_heading level1 col1\" >60_discount</th>\n",
       "      <th id=\"T_0a56a_level1_col2\" class=\"col_heading level1 col2\" >no_discount</th>\n",
       "      <th id=\"T_0a56a_level1_col3\" class=\"col_heading level1 col3\" ></th>\n",
       "      <th id=\"T_0a56a_level1_col4\" class=\"col_heading level1 col4\" ></th>\n",
       "    </tr>\n",
       "    <tr>\n",
       "      <th class=\"index_name level0\" >item_region</th>\n",
       "      <th class=\"blank col0\" >&nbsp;</th>\n",
       "      <th class=\"blank col1\" >&nbsp;</th>\n",
       "      <th class=\"blank col2\" >&nbsp;</th>\n",
       "      <th class=\"blank col3\" >&nbsp;</th>\n",
       "      <th class=\"blank col4\" >&nbsp;</th>\n",
       "    </tr>\n",
       "  </thead>\n",
       "  <tbody>\n",
       "    <tr>\n",
       "      <th id=\"T_0a56a_level0_row0\" class=\"row_heading level0 row0\" >78</th>\n",
       "      <td id=\"T_0a56a_row0_col0\" class=\"data row0 col0\" >3031</td>\n",
       "      <td id=\"T_0a56a_row0_col1\" class=\"data row0 col1\" >3003</td>\n",
       "      <td id=\"T_0a56a_row0_col2\" class=\"data row0 col2\" >3243</td>\n",
       "      <td id=\"T_0a56a_row0_col3\" class=\"data row0 col3\" >9277</td>\n",
       "      <td id=\"T_0a56a_row0_col4\" class=\"data row0 col4\" >0.000953</td>\n",
       "    </tr>\n",
       "    <tr>\n",
       "      <th id=\"T_0a56a_level0_row1\" class=\"row_heading level0 row1\" >24</th>\n",
       "      <td id=\"T_0a56a_row1_col0\" class=\"data row1 col0\" >1712</td>\n",
       "      <td id=\"T_0a56a_row1_col1\" class=\"data row1 col1\" >1667</td>\n",
       "      <td id=\"T_0a56a_row1_col2\" class=\"data row1 col2\" >1850</td>\n",
       "      <td id=\"T_0a56a_row1_col3\" class=\"data row1 col3\" >5229</td>\n",
       "      <td id=\"T_0a56a_row1_col4\" class=\"data row1 col4\" >0.001781</td>\n",
       "    </tr>\n",
       "    <tr>\n",
       "      <th id=\"T_0a56a_level0_row2\" class=\"row_heading level0 row2\" >79</th>\n",
       "      <td id=\"T_0a56a_row2_col0\" class=\"data row2 col0\" >6505</td>\n",
       "      <td id=\"T_0a56a_row2_col1\" class=\"data row2 col1\" >6520</td>\n",
       "      <td id=\"T_0a56a_row2_col2\" class=\"data row2 col2\" >6715</td>\n",
       "      <td id=\"T_0a56a_row2_col3\" class=\"data row2 col3\" >19740</td>\n",
       "      <td id=\"T_0a56a_row2_col4\" class=\"data row2 col4\" >0.042278</td>\n",
       "    </tr>\n",
       "    <tr>\n",
       "      <th id=\"T_0a56a_level0_row3\" class=\"row_heading level0 row3\" >59</th>\n",
       "      <td id=\"T_0a56a_row3_col0\" class=\"data row3 col0\" >1732</td>\n",
       "      <td id=\"T_0a56a_row3_col1\" class=\"data row3 col1\" >1708</td>\n",
       "      <td id=\"T_0a56a_row3_col2\" class=\"data row3 col2\" >1619</td>\n",
       "      <td id=\"T_0a56a_row3_col3\" class=\"data row3 col3\" >5059</td>\n",
       "      <td id=\"T_0a56a_row3_col4\" class=\"data row3 col4\" >0.045678</td>\n",
       "    </tr>\n",
       "    <tr>\n",
       "      <th id=\"T_0a56a_level0_row4\" class=\"row_heading level0 row4\" >8</th>\n",
       "      <td id=\"T_0a56a_row4_col0\" class=\"data row4 col0\" >1449</td>\n",
       "      <td id=\"T_0a56a_row4_col1\" class=\"data row4 col1\" >1406</td>\n",
       "      <td id=\"T_0a56a_row4_col2\" class=\"data row4 col2\" >1507</td>\n",
       "      <td id=\"T_0a56a_row4_col3\" class=\"data row4 col3\" >4362</td>\n",
       "      <td id=\"T_0a56a_row4_col4\" class=\"data row4 col4\" >0.088721</td>\n",
       "    </tr>\n",
       "    <tr>\n",
       "      <th id=\"T_0a56a_level0_row5\" class=\"row_heading level0 row5\" >56</th>\n",
       "      <td id=\"T_0a56a_row5_col0\" class=\"data row5 col0\" >4001</td>\n",
       "      <td id=\"T_0a56a_row5_col1\" class=\"data row5 col1\" >4040</td>\n",
       "      <td id=\"T_0a56a_row5_col2\" class=\"data row5 col2\" >4145</td>\n",
       "      <td id=\"T_0a56a_row5_col3\" class=\"data row5 col3\" >12186</td>\n",
       "      <td id=\"T_0a56a_row5_col4\" class=\"data row5 col4\" >0.110727</td>\n",
       "    </tr>\n",
       "    <tr>\n",
       "      <th id=\"T_0a56a_level0_row6\" class=\"row_heading level0 row6\" >2</th>\n",
       "      <td id=\"T_0a56a_row6_col0\" class=\"data row6 col0\" >200</td>\n",
       "      <td id=\"T_0a56a_row6_col1\" class=\"data row6 col1\" >235</td>\n",
       "      <td id=\"T_0a56a_row6_col2\" class=\"data row6 col2\" >246</td>\n",
       "      <td id=\"T_0a56a_row6_col3\" class=\"data row6 col3\" >681</td>\n",
       "      <td id=\"T_0a56a_row6_col4\" class=\"data row6 col4\" >0.122641</td>\n",
       "    </tr>\n",
       "    <tr>\n",
       "      <th id=\"T_0a56a_level0_row7\" class=\"row_heading level0 row7\" >50</th>\n",
       "      <td id=\"T_0a56a_row7_col0\" class=\"data row7 col0\" >2732</td>\n",
       "      <td id=\"T_0a56a_row7_col1\" class=\"data row7 col1\" >2798</td>\n",
       "      <td id=\"T_0a56a_row7_col2\" class=\"data row7 col2\" >2863</td>\n",
       "      <td id=\"T_0a56a_row7_col3\" class=\"data row7 col3\" >8393</td>\n",
       "      <td id=\"T_0a56a_row7_col4\" class=\"data row7 col4\" >0.132296</td>\n",
       "    </tr>\n",
       "    <tr>\n",
       "      <th id=\"T_0a56a_level0_row8\" class=\"row_heading level0 row8\" >68</th>\n",
       "      <td id=\"T_0a56a_row8_col0\" class=\"data row8 col0\" >1019</td>\n",
       "      <td id=\"T_0a56a_row8_col1\" class=\"data row8 col1\" >1013</td>\n",
       "      <td id=\"T_0a56a_row8_col2\" class=\"data row8 col2\" >958</td>\n",
       "      <td id=\"T_0a56a_row8_col3\" class=\"data row8 col3\" >2990</td>\n",
       "      <td id=\"T_0a56a_row8_col4\" class=\"data row8 col4\" >0.135304</td>\n",
       "    </tr>\n",
       "    <tr>\n",
       "      <th id=\"T_0a56a_level0_row9\" class=\"row_heading level0 row9\" >40</th>\n",
       "      <td id=\"T_0a56a_row9_col0\" class=\"data row9 col0\" >4639</td>\n",
       "      <td id=\"T_0a56a_row9_col1\" class=\"data row9 col1\" >4631</td>\n",
       "      <td id=\"T_0a56a_row9_col2\" class=\"data row9 col2\" >4759</td>\n",
       "      <td id=\"T_0a56a_row9_col3\" class=\"data row9 col3\" >14029</td>\n",
       "      <td id=\"T_0a56a_row9_col4\" class=\"data row9 col4\" >0.139525</td>\n",
       "    </tr>\n",
       "    <tr>\n",
       "      <th id=\"T_0a56a_level0_row10\" class=\"row_heading level0 row10\" >73</th>\n",
       "      <td id=\"T_0a56a_row10_col0\" class=\"data row10 col0\" >2436</td>\n",
       "      <td id=\"T_0a56a_row10_col1\" class=\"data row10 col1\" >2361</td>\n",
       "      <td id=\"T_0a56a_row10_col2\" class=\"data row10 col2\" >2310</td>\n",
       "      <td id=\"T_0a56a_row10_col3\" class=\"data row10 col3\" >7107</td>\n",
       "      <td id=\"T_0a56a_row10_col4\" class=\"data row10 col4\" >0.141002</td>\n",
       "    </tr>\n",
       "    <tr>\n",
       "      <th id=\"T_0a56a_level0_row11\" class=\"row_heading level0 row11\" >41</th>\n",
       "      <td id=\"T_0a56a_row11_col0\" class=\"data row11 col0\" >6724</td>\n",
       "      <td id=\"T_0a56a_row11_col1\" class=\"data row11 col1\" >6572</td>\n",
       "      <td id=\"T_0a56a_row11_col2\" class=\"data row11 col2\" >6793</td>\n",
       "      <td id=\"T_0a56a_row11_col3\" class=\"data row11 col3\" >20089</td>\n",
       "      <td id=\"T_0a56a_row11_col4\" class=\"data row11 col4\" >0.148658</td>\n",
       "    </tr>\n",
       "    <tr>\n",
       "      <th id=\"T_0a56a_level0_row12\" class=\"row_heading level0 row12\" >7</th>\n",
       "      <td id=\"T_0a56a_row12_col0\" class=\"data row12 col0\" >3713</td>\n",
       "      <td id=\"T_0a56a_row12_col1\" class=\"data row12 col1\" >3764</td>\n",
       "      <td id=\"T_0a56a_row12_col2\" class=\"data row12 col2\" >3846</td>\n",
       "      <td id=\"T_0a56a_row12_col3\" class=\"data row12 col3\" >11323</td>\n",
       "      <td id=\"T_0a56a_row12_col4\" class=\"data row12 col4\" >0.154048</td>\n",
       "    </tr>\n",
       "    <tr>\n",
       "      <th id=\"T_0a56a_level0_row13\" class=\"row_heading level0 row13\" >20</th>\n",
       "      <td id=\"T_0a56a_row13_col0\" class=\"data row13 col0\" >3129</td>\n",
       "      <td id=\"T_0a56a_row13_col1\" class=\"data row13 col1\" >3143</td>\n",
       "      <td id=\"T_0a56a_row13_col2\" class=\"data row13 col2\" >3234</td>\n",
       "      <td id=\"T_0a56a_row13_col3\" class=\"data row13 col3\" >9506</td>\n",
       "      <td id=\"T_0a56a_row13_col4\" class=\"data row13 col4\" >0.157289</td>\n",
       "    </tr>\n",
       "    <tr>\n",
       "      <th id=\"T_0a56a_level0_row14\" class=\"row_heading level0 row14\" >51</th>\n",
       "      <td id=\"T_0a56a_row14_col0\" class=\"data row14 col0\" >1072</td>\n",
       "      <td id=\"T_0a56a_row14_col1\" class=\"data row14 col1\" >1047</td>\n",
       "      <td id=\"T_0a56a_row14_col2\" class=\"data row14 col2\" >1115</td>\n",
       "      <td id=\"T_0a56a_row14_col3\" class=\"data row14 col3\" >3234</td>\n",
       "      <td id=\"T_0a56a_row14_col4\" class=\"data row14 col4\" >0.167569</td>\n",
       "    </tr>\n",
       "    <tr>\n",
       "      <th id=\"T_0a56a_level0_row15\" class=\"row_heading level0 row15\" >47</th>\n",
       "      <td id=\"T_0a56a_row15_col0\" class=\"data row15 col0\" >1259</td>\n",
       "      <td id=\"T_0a56a_row15_col1\" class=\"data row15 col1\" >1148</td>\n",
       "      <td id=\"T_0a56a_row15_col2\" class=\"data row15 col2\" >1261</td>\n",
       "      <td id=\"T_0a56a_row15_col3\" class=\"data row15 col3\" >3668</td>\n",
       "      <td id=\"T_0a56a_row15_col4\" class=\"data row15 col4\" >0.183180</td>\n",
       "    </tr>\n",
       "    <tr>\n",
       "      <th id=\"T_0a56a_level0_row16\" class=\"row_heading level0 row16\" >75</th>\n",
       "      <td id=\"T_0a56a_row16_col0\" class=\"data row16 col0\" >52929</td>\n",
       "      <td id=\"T_0a56a_row16_col1\" class=\"data row16 col1\" >53065</td>\n",
       "      <td id=\"T_0a56a_row16_col2\" class=\"data row16 col2\" >53365</td>\n",
       "      <td id=\"T_0a56a_row16_col3\" class=\"data row16 col3\" >159359</td>\n",
       "      <td id=\"T_0a56a_row16_col4\" class=\"data row16 col4\" >0.192944</td>\n",
       "    </tr>\n",
       "    <tr>\n",
       "      <th id=\"T_0a56a_level0_row17\" class=\"row_heading level0 row17\" >70</th>\n",
       "      <td id=\"T_0a56a_row17_col0\" class=\"data row17 col0\" >1994</td>\n",
       "      <td id=\"T_0a56a_row17_col1\" class=\"data row17 col1\" >1890</td>\n",
       "      <td id=\"T_0a56a_row17_col2\" class=\"data row17 col2\" >2010</td>\n",
       "      <td id=\"T_0a56a_row17_col3\" class=\"data row17 col3\" >5894</td>\n",
       "      <td id=\"T_0a56a_row17_col4\" class=\"data row17 col4\" >0.213711</td>\n",
       "    </tr>\n",
       "    <tr>\n",
       "      <th id=\"T_0a56a_level0_row18\" class=\"row_heading level0 row18\" >10</th>\n",
       "      <td id=\"T_0a56a_row18_col0\" class=\"data row18 col0\" >2990</td>\n",
       "      <td id=\"T_0a56a_row18_col1\" class=\"data row18 col1\" >3076</td>\n",
       "      <td id=\"T_0a56a_row18_col2\" class=\"data row18 col2\" >3115</td>\n",
       "      <td id=\"T_0a56a_row18_col3\" class=\"data row18 col3\" >9181</td>\n",
       "      <td id=\"T_0a56a_row18_col4\" class=\"data row18 col4\" >0.227595</td>\n",
       "    </tr>\n",
       "    <tr>\n",
       "      <th id=\"T_0a56a_level0_row19\" class=\"row_heading level0 row19\" >25</th>\n",
       "      <td id=\"T_0a56a_row19_col0\" class=\"data row19 col0\" >11515</td>\n",
       "      <td id=\"T_0a56a_row19_col1\" class=\"data row19 col1\" >11545</td>\n",
       "      <td id=\"T_0a56a_row19_col2\" class=\"data row19 col2\" >11686</td>\n",
       "      <td id=\"T_0a56a_row19_col3\" class=\"data row19 col3\" >34746</td>\n",
       "      <td id=\"T_0a56a_row19_col4\" class=\"data row19 col4\" >0.236595</td>\n",
       "    </tr>\n",
       "    <tr>\n",
       "      <th id=\"T_0a56a_level0_row20\" class=\"row_heading level0 row20\" >15</th>\n",
       "      <td id=\"T_0a56a_row20_col0\" class=\"data row20 col0\" >9491</td>\n",
       "      <td id=\"T_0a56a_row20_col1\" class=\"data row20 col1\" >9401</td>\n",
       "      <td id=\"T_0a56a_row20_col2\" class=\"data row20 col2\" >9586</td>\n",
       "      <td id=\"T_0a56a_row20_col3\" class=\"data row20 col3\" >28478</td>\n",
       "      <td id=\"T_0a56a_row20_col4\" class=\"data row20 col4\" >0.242381</td>\n",
       "    </tr>\n",
       "    <tr>\n",
       "      <th id=\"T_0a56a_level0_row21\" class=\"row_heading level0 row21\" >11</th>\n",
       "      <td id=\"T_0a56a_row21_col0\" class=\"data row21 col0\" >5555</td>\n",
       "      <td id=\"T_0a56a_row21_col1\" class=\"data row21 col1\" >5614</td>\n",
       "      <td id=\"T_0a56a_row21_col2\" class=\"data row21 col2\" >5682</td>\n",
       "      <td id=\"T_0a56a_row21_col3\" class=\"data row21 col3\" >16851</td>\n",
       "      <td id=\"T_0a56a_row21_col4\" class=\"data row21 col4\" >0.288153</td>\n",
       "    </tr>\n",
       "    <tr>\n",
       "      <th id=\"T_0a56a_level0_row22\" class=\"row_heading level0 row22\" >52</th>\n",
       "      <td id=\"T_0a56a_row22_col0\" class=\"data row22 col0\" >2781</td>\n",
       "      <td id=\"T_0a56a_row22_col1\" class=\"data row22 col1\" >2807</td>\n",
       "      <td id=\"T_0a56a_row22_col2\" class=\"data row22 col2\" >2863</td>\n",
       "      <td id=\"T_0a56a_row22_col3\" class=\"data row22 col3\" >8451</td>\n",
       "      <td id=\"T_0a56a_row22_col4\" class=\"data row22 col4\" >0.288490</td>\n",
       "    </tr>\n",
       "    <tr>\n",
       "      <th id=\"T_0a56a_level0_row23\" class=\"row_heading level0 row23\" >37</th>\n",
       "      <td id=\"T_0a56a_row23_col0\" class=\"data row23 col0\" >1895</td>\n",
       "      <td id=\"T_0a56a_row23_col1\" class=\"data row23 col1\" >1918</td>\n",
       "      <td id=\"T_0a56a_row23_col2\" class=\"data row23 col2\" >1851</td>\n",
       "      <td id=\"T_0a56a_row23_col3\" class=\"data row23 col3\" >5664</td>\n",
       "      <td id=\"T_0a56a_row23_col4\" class=\"data row23 col4\" >0.303564</td>\n",
       "    </tr>\n",
       "    <tr>\n",
       "      <th id=\"T_0a56a_level0_row24\" class=\"row_heading level0 row24\" >77</th>\n",
       "      <td id=\"T_0a56a_row24_col0\" class=\"data row24 col0\" >9</td>\n",
       "      <td id=\"T_0a56a_row24_col1\" class=\"data row24 col1\" >12</td>\n",
       "      <td id=\"T_0a56a_row24_col2\" class=\"data row24 col2\" >6</td>\n",
       "      <td id=\"T_0a56a_row24_col3\" class=\"data row24 col3\" >27</td>\n",
       "      <td id=\"T_0a56a_row24_col4\" class=\"data row24 col4\" >0.307076</td>\n",
       "    </tr>\n",
       "    <tr>\n",
       "      <th id=\"T_0a56a_level0_row25\" class=\"row_heading level0 row25\" >74</th>\n",
       "      <td id=\"T_0a56a_row25_col0\" class=\"data row25 col0\" >1729</td>\n",
       "      <td id=\"T_0a56a_row25_col1\" class=\"data row25 col1\" >1814</td>\n",
       "      <td id=\"T_0a56a_row25_col2\" class=\"data row25 col2\" >1823</td>\n",
       "      <td id=\"T_0a56a_row25_col3\" class=\"data row25 col3\" >5366</td>\n",
       "      <td id=\"T_0a56a_row25_col4\" class=\"data row25 col4\" >0.324817</td>\n",
       "    </tr>\n",
       "    <tr>\n",
       "      <th id=\"T_0a56a_level0_row26\" class=\"row_heading level0 row26\" >65</th>\n",
       "      <td id=\"T_0a56a_row26_col0\" class=\"data row26 col0\" >1419</td>\n",
       "      <td id=\"T_0a56a_row26_col1\" class=\"data row26 col1\" >1467</td>\n",
       "      <td id=\"T_0a56a_row26_col2\" class=\"data row26 col2\" >1485</td>\n",
       "      <td id=\"T_0a56a_row26_col3\" class=\"data row26 col3\" >4371</td>\n",
       "      <td id=\"T_0a56a_row26_col4\" class=\"data row26 col4\" >0.369000</td>\n",
       "    </tr>\n",
       "    <tr>\n",
       "      <th id=\"T_0a56a_level0_row27\" class=\"row_heading level0 row27\" >66</th>\n",
       "      <td id=\"T_0a56a_row27_col0\" class=\"data row27 col0\" >116</td>\n",
       "      <td id=\"T_0a56a_row27_col1\" class=\"data row27 col1\" >102</td>\n",
       "      <td id=\"T_0a56a_row27_col2\" class=\"data row27 col2\" >97</td>\n",
       "      <td id=\"T_0a56a_row27_col3\" class=\"data row27 col3\" >315</td>\n",
       "      <td id=\"T_0a56a_row27_col4\" class=\"data row27 col4\" >0.370033</td>\n",
       "    </tr>\n",
       "    <tr>\n",
       "      <th id=\"T_0a56a_level0_row28\" class=\"row_heading level0 row28\" >42</th>\n",
       "      <td id=\"T_0a56a_row28_col0\" class=\"data row28 col0\" >4588</td>\n",
       "      <td id=\"T_0a56a_row28_col1\" class=\"data row28 col1\" >4524</td>\n",
       "      <td id=\"T_0a56a_row28_col2\" class=\"data row28 col2\" >4630</td>\n",
       "      <td id=\"T_0a56a_row28_col3\" class=\"data row28 col3\" >13742</td>\n",
       "      <td id=\"T_0a56a_row28_col4\" class=\"data row28 col4\" >0.375239</td>\n",
       "    </tr>\n",
       "    <tr>\n",
       "      <th id=\"T_0a56a_level0_row29\" class=\"row_heading level0 row29\" >36</th>\n",
       "      <td id=\"T_0a56a_row29_col0\" class=\"data row29 col0\" >6993</td>\n",
       "      <td id=\"T_0a56a_row29_col1\" class=\"data row29 col1\" >6795</td>\n",
       "      <td id=\"T_0a56a_row29_col2\" class=\"data row29 col2\" >6982</td>\n",
       "      <td id=\"T_0a56a_row29_col3\" class=\"data row29 col3\" >20770</td>\n",
       "      <td id=\"T_0a56a_row29_col4\" class=\"data row29 col4\" >0.389195</td>\n",
       "    </tr>\n",
       "    <tr>\n",
       "      <th id=\"T_0a56a_level0_row30\" class=\"row_heading level0 row30\" >12</th>\n",
       "      <td id=\"T_0a56a_row30_col0\" class=\"data row30 col0\" >142</td>\n",
       "      <td id=\"T_0a56a_row30_col1\" class=\"data row30 col1\" >146</td>\n",
       "      <td id=\"T_0a56a_row30_col2\" class=\"data row30 col2\" >157</td>\n",
       "      <td id=\"T_0a56a_row30_col3\" class=\"data row30 col3\" >445</td>\n",
       "      <td id=\"T_0a56a_row30_col4\" class=\"data row30 col4\" >0.392760</td>\n",
       "    </tr>\n",
       "    <tr>\n",
       "      <th id=\"T_0a56a_level0_row31\" class=\"row_heading level0 row31\" >54</th>\n",
       "      <td id=\"T_0a56a_row31_col0\" class=\"data row31 col0\" >1489</td>\n",
       "      <td id=\"T_0a56a_row31_col1\" class=\"data row31 col1\" >1432</td>\n",
       "      <td id=\"T_0a56a_row31_col2\" class=\"data row31 col2\" >1498</td>\n",
       "      <td id=\"T_0a56a_row31_col3\" class=\"data row31 col3\" >4419</td>\n",
       "      <td id=\"T_0a56a_row31_col4\" class=\"data row31 col4\" >0.425027</td>\n",
       "    </tr>\n",
       "    <tr>\n",
       "      <th id=\"T_0a56a_level0_row32\" class=\"row_heading level0 row32\" >84</th>\n",
       "      <td id=\"T_0a56a_row32_col0\" class=\"data row32 col0\" >282</td>\n",
       "      <td id=\"T_0a56a_row32_col1\" class=\"data row32 col1\" >296</td>\n",
       "      <td id=\"T_0a56a_row32_col2\" class=\"data row32 col2\" >273</td>\n",
       "      <td id=\"T_0a56a_row32_col3\" class=\"data row32 col3\" >851</td>\n",
       "      <td id=\"T_0a56a_row32_col4\" class=\"data row32 col4\" >0.445400</td>\n",
       "    </tr>\n",
       "    <tr>\n",
       "      <th id=\"T_0a56a_level0_row33\" class=\"row_heading level0 row33\" >48</th>\n",
       "      <td id=\"T_0a56a_row33_col0\" class=\"data row33 col0\" >4334</td>\n",
       "      <td id=\"T_0a56a_row33_col1\" class=\"data row33 col1\" >4358</td>\n",
       "      <td id=\"T_0a56a_row33_col2\" class=\"data row33 col2\" >4406</td>\n",
       "      <td id=\"T_0a56a_row33_col3\" class=\"data row33 col3\" >13098</td>\n",
       "      <td id=\"T_0a56a_row33_col4\" class=\"data row33 col4\" >0.458449</td>\n",
       "    </tr>\n",
       "    <tr>\n",
       "      <th id=\"T_0a56a_level0_row34\" class=\"row_heading level0 row34\" >19</th>\n",
       "      <td id=\"T_0a56a_row34_col0\" class=\"data row34 col0\" >6940</td>\n",
       "      <td id=\"T_0a56a_row34_col1\" class=\"data row34 col1\" >6713</td>\n",
       "      <td id=\"T_0a56a_row34_col2\" class=\"data row34 col2\" >6895</td>\n",
       "      <td id=\"T_0a56a_row34_col3\" class=\"data row34 col3\" >20548</td>\n",
       "      <td id=\"T_0a56a_row34_col4\" class=\"data row34 col4\" >0.500734</td>\n",
       "    </tr>\n",
       "    <tr>\n",
       "      <th id=\"T_0a56a_level0_row35\" class=\"row_heading level0 row35\" >22</th>\n",
       "      <td id=\"T_0a56a_row35_col0\" class=\"data row35 col0\" >2580</td>\n",
       "      <td id=\"T_0a56a_row35_col1\" class=\"data row35 col1\" >2574</td>\n",
       "      <td id=\"T_0a56a_row35_col2\" class=\"data row35 col2\" >2535</td>\n",
       "      <td id=\"T_0a56a_row35_col3\" class=\"data row35 col3\" >7689</td>\n",
       "      <td id=\"T_0a56a_row35_col4\" class=\"data row35 col4\" >0.505874</td>\n",
       "    </tr>\n",
       "    <tr>\n",
       "      <th id=\"T_0a56a_level0_row36\" class=\"row_heading level0 row36\" >67</th>\n",
       "      <td id=\"T_0a56a_row36_col0\" class=\"data row36 col0\" >3706</td>\n",
       "      <td id=\"T_0a56a_row36_col1\" class=\"data row36 col1\" >3721</td>\n",
       "      <td id=\"T_0a56a_row36_col2\" class=\"data row36 col2\" >3668</td>\n",
       "      <td id=\"T_0a56a_row36_col3\" class=\"data row36 col3\" >11095</td>\n",
       "      <td id=\"T_0a56a_row36_col4\" class=\"data row36 col4\" >0.545735</td>\n",
       "    </tr>\n",
       "    <tr>\n",
       "      <th id=\"T_0a56a_level0_row37\" class=\"row_heading level0 row37\" >13</th>\n",
       "      <td id=\"T_0a56a_row37_col0\" class=\"data row37 col0\" >1350</td>\n",
       "      <td id=\"T_0a56a_row37_col1\" class=\"data row37 col1\" >1401</td>\n",
       "      <td id=\"T_0a56a_row37_col2\" class=\"data row37 col2\" >1401</td>\n",
       "      <td id=\"T_0a56a_row37_col3\" class=\"data row37 col3\" >4152</td>\n",
       "      <td id=\"T_0a56a_row37_col4\" class=\"data row37 col4\" >0.575736</td>\n",
       "    </tr>\n",
       "    <tr>\n",
       "      <th id=\"T_0a56a_level0_row38\" class=\"row_heading level0 row38\" >38</th>\n",
       "      <td id=\"T_0a56a_row38_col0\" class=\"data row38 col0\" >577</td>\n",
       "      <td id=\"T_0a56a_row38_col1\" class=\"data row38 col1\" >587</td>\n",
       "      <td id=\"T_0a56a_row38_col2\" class=\"data row38 col2\" >599</td>\n",
       "      <td id=\"T_0a56a_row38_col3\" class=\"data row38 col3\" >1763</td>\n",
       "      <td id=\"T_0a56a_row38_col4\" class=\"data row38 col4\" >0.578391</td>\n",
       "    </tr>\n",
       "    <tr>\n",
       "      <th id=\"T_0a56a_level0_row39\" class=\"row_heading level0 row39\" >43</th>\n",
       "      <td id=\"T_0a56a_row39_col0\" class=\"data row39 col0\" >324</td>\n",
       "      <td id=\"T_0a56a_row39_col1\" class=\"data row39 col1\" >317</td>\n",
       "      <td id=\"T_0a56a_row39_col2\" class=\"data row39 col2\" >333</td>\n",
       "      <td id=\"T_0a56a_row39_col3\" class=\"data row39 col3\" >974</td>\n",
       "      <td id=\"T_0a56a_row39_col4\" class=\"data row39 col4\" >0.586604</td>\n",
       "    </tr>\n",
       "    <tr>\n",
       "      <th id=\"T_0a56a_level0_row40\" class=\"row_heading level0 row40\" >16</th>\n",
       "      <td id=\"T_0a56a_row40_col0\" class=\"data row40 col0\" >1320</td>\n",
       "      <td id=\"T_0a56a_row40_col1\" class=\"data row40 col1\" >1327</td>\n",
       "      <td id=\"T_0a56a_row40_col2\" class=\"data row40 col2\" >1348</td>\n",
       "      <td id=\"T_0a56a_row40_col3\" class=\"data row40 col3\" >3995</td>\n",
       "      <td id=\"T_0a56a_row40_col4\" class=\"data row40 col4\" >0.591275</td>\n",
       "    </tr>\n",
       "    <tr>\n",
       "      <th id=\"T_0a56a_level0_row41\" class=\"row_heading level0 row41\" >9</th>\n",
       "      <td id=\"T_0a56a_row41_col0\" class=\"data row41 col0\" >8143</td>\n",
       "      <td id=\"T_0a56a_row41_col1\" class=\"data row41 col1\" >8218</td>\n",
       "      <td id=\"T_0a56a_row41_col2\" class=\"data row41 col2\" >8239</td>\n",
       "      <td id=\"T_0a56a_row41_col3\" class=\"data row41 col3\" >24600</td>\n",
       "      <td id=\"T_0a56a_row41_col4\" class=\"data row41 col4\" >0.597867</td>\n",
       "    </tr>\n",
       "    <tr>\n",
       "      <th id=\"T_0a56a_level0_row42\" class=\"row_heading level0 row42\" >60</th>\n",
       "      <td id=\"T_0a56a_row42_col0\" class=\"data row42 col0\" >751</td>\n",
       "      <td id=\"T_0a56a_row42_col1\" class=\"data row42 col1\" >749</td>\n",
       "      <td id=\"T_0a56a_row42_col2\" class=\"data row42 col2\" >732</td>\n",
       "      <td id=\"T_0a56a_row42_col3\" class=\"data row42 col3\" >2232</td>\n",
       "      <td id=\"T_0a56a_row42_col4\" class=\"data row42 col4\" >0.605611</td>\n",
       "    </tr>\n",
       "    <tr>\n",
       "      <th id=\"T_0a56a_level0_row43\" class=\"row_heading level0 row43\" >57</th>\n",
       "      <td id=\"T_0a56a_row43_col0\" class=\"data row43 col0\" >2316</td>\n",
       "      <td id=\"T_0a56a_row43_col1\" class=\"data row43 col1\" >2421</td>\n",
       "      <td id=\"T_0a56a_row43_col2\" class=\"data row43 col2\" >2399</td>\n",
       "      <td id=\"T_0a56a_row43_col3\" class=\"data row43 col3\" >7136</td>\n",
       "      <td id=\"T_0a56a_row43_col4\" class=\"data row43 col4\" >0.615502</td>\n",
       "    </tr>\n",
       "    <tr>\n",
       "      <th id=\"T_0a56a_level0_row44\" class=\"row_heading level0 row44\" >82</th>\n",
       "      <td id=\"T_0a56a_row44_col0\" class=\"data row44 col0\" >8457</td>\n",
       "      <td id=\"T_0a56a_row44_col1\" class=\"data row44 col1\" >8459</td>\n",
       "      <td id=\"T_0a56a_row44_col2\" class=\"data row44 col2\" >8514</td>\n",
       "      <td id=\"T_0a56a_row44_col3\" class=\"data row44 col3\" >25430</td>\n",
       "      <td id=\"T_0a56a_row44_col4\" class=\"data row44 col4\" >0.622584</td>\n",
       "    </tr>\n",
       "    <tr>\n",
       "      <th id=\"T_0a56a_level0_row45\" class=\"row_heading level0 row45\" >31</th>\n",
       "      <td id=\"T_0a56a_row45_col0\" class=\"data row45 col0\" >25552</td>\n",
       "      <td id=\"T_0a56a_row45_col1\" class=\"data row45 col1\" >25292</td>\n",
       "      <td id=\"T_0a56a_row45_col2\" class=\"data row45 col2\" >25518</td>\n",
       "      <td id=\"T_0a56a_row45_col3\" class=\"data row45 col3\" >76362</td>\n",
       "      <td id=\"T_0a56a_row45_col4\" class=\"data row45 col4\" >0.623215</td>\n",
       "    </tr>\n",
       "    <tr>\n",
       "      <th id=\"T_0a56a_level0_row46\" class=\"row_heading level0 row46\" >6</th>\n",
       "      <td id=\"T_0a56a_row46_col0\" class=\"data row46 col0\" >1348</td>\n",
       "      <td id=\"T_0a56a_row46_col1\" class=\"data row46 col1\" >1262</td>\n",
       "      <td id=\"T_0a56a_row46_col2\" class=\"data row46 col2\" >1327</td>\n",
       "      <td id=\"T_0a56a_row46_col3\" class=\"data row46 col3\" >3937</td>\n",
       "      <td id=\"T_0a56a_row46_col4\" class=\"data row46 col4\" >0.623986</td>\n",
       "    </tr>\n",
       "    <tr>\n",
       "      <th id=\"T_0a56a_level0_row47\" class=\"row_heading level0 row47\" >26</th>\n",
       "      <td id=\"T_0a56a_row47_col0\" class=\"data row47 col0\" >12173</td>\n",
       "      <td id=\"T_0a56a_row47_col1\" class=\"data row47 col1\" >12075</td>\n",
       "      <td id=\"T_0a56a_row47_col2\" class=\"data row47 col2\" >12190</td>\n",
       "      <td id=\"T_0a56a_row47_col3\" class=\"data row47 col3\" >36438</td>\n",
       "      <td id=\"T_0a56a_row47_col4\" class=\"data row47 col4\" >0.624866</td>\n",
       "    </tr>\n",
       "    <tr>\n",
       "      <th id=\"T_0a56a_level0_row48\" class=\"row_heading level0 row48\" >17</th>\n",
       "      <td id=\"T_0a56a_row48_col0\" class=\"data row48 col0\" >2555</td>\n",
       "      <td id=\"T_0a56a_row48_col1\" class=\"data row48 col1\" >2550</td>\n",
       "      <td id=\"T_0a56a_row48_col2\" class=\"data row48 col2\" >2522</td>\n",
       "      <td id=\"T_0a56a_row48_col3\" class=\"data row48 col3\" >7627</td>\n",
       "      <td id=\"T_0a56a_row48_col4\" class=\"data row48 col4\" >0.627119</td>\n",
       "    </tr>\n",
       "    <tr>\n",
       "      <th id=\"T_0a56a_level0_row49\" class=\"row_heading level0 row49\" >27</th>\n",
       "      <td id=\"T_0a56a_row49_col0\" class=\"data row49 col0\" >1538</td>\n",
       "      <td id=\"T_0a56a_row49_col1\" class=\"data row49 col1\" >1559</td>\n",
       "      <td id=\"T_0a56a_row49_col2\" class=\"data row49 col2\" >1572</td>\n",
       "      <td id=\"T_0a56a_row49_col3\" class=\"data row49 col3\" >4669</td>\n",
       "      <td id=\"T_0a56a_row49_col4\" class=\"data row49 col4\" >0.630381</td>\n",
       "    </tr>\n",
       "    <tr>\n",
       "      <th id=\"T_0a56a_level0_row50\" class=\"row_heading level0 row50\" >5</th>\n",
       "      <td id=\"T_0a56a_row50_col0\" class=\"data row50 col0\" >2501</td>\n",
       "      <td id=\"T_0a56a_row50_col1\" class=\"data row50 col1\" >2579</td>\n",
       "      <td id=\"T_0a56a_row50_col2\" class=\"data row50 col2\" >2569</td>\n",
       "      <td id=\"T_0a56a_row50_col3\" class=\"data row50 col3\" >7649</td>\n",
       "      <td id=\"T_0a56a_row50_col4\" class=\"data row50 col4\" >0.644909</td>\n",
       "    </tr>\n",
       "    <tr>\n",
       "      <th id=\"T_0a56a_level0_row51\" class=\"row_heading level0 row51\" >69</th>\n",
       "      <td id=\"T_0a56a_row51_col0\" class=\"data row51 col0\" >3520</td>\n",
       "      <td id=\"T_0a56a_row51_col1\" class=\"data row51 col1\" >3545</td>\n",
       "      <td id=\"T_0a56a_row51_col2\" class=\"data row51 col2\" >3566</td>\n",
       "      <td id=\"T_0a56a_row51_col3\" class=\"data row51 col3\" >10631</td>\n",
       "      <td id=\"T_0a56a_row51_col4\" class=\"data row51 col4\" >0.650817</td>\n",
       "    </tr>\n",
       "    <tr>\n",
       "      <th id=\"T_0a56a_level0_row52\" class=\"row_heading level0 row52\" >63</th>\n",
       "      <td id=\"T_0a56a_row52_col0\" class=\"data row52 col0\" >2877</td>\n",
       "      <td id=\"T_0a56a_row52_col1\" class=\"data row52 col1\" >2782</td>\n",
       "      <td id=\"T_0a56a_row52_col2\" class=\"data row52 col2\" >2859</td>\n",
       "      <td id=\"T_0a56a_row52_col3\" class=\"data row52 col3\" >8518</td>\n",
       "      <td id=\"T_0a56a_row52_col4\" class=\"data row52 col4\" >0.654012</td>\n",
       "    </tr>\n",
       "    <tr>\n",
       "      <th id=\"T_0a56a_level0_row53\" class=\"row_heading level0 row53\" >14</th>\n",
       "      <td id=\"T_0a56a_row53_col0\" class=\"data row53 col0\" >3909</td>\n",
       "      <td id=\"T_0a56a_row53_col1\" class=\"data row53 col1\" >3993</td>\n",
       "      <td id=\"T_0a56a_row53_col2\" class=\"data row53 col2\" >3986</td>\n",
       "      <td id=\"T_0a56a_row53_col3\" class=\"data row53 col3\" >11888</td>\n",
       "      <td id=\"T_0a56a_row53_col4\" class=\"data row53 col4\" >0.654525</td>\n",
       "    </tr>\n",
       "    <tr>\n",
       "      <th id=\"T_0a56a_level0_row54\" class=\"row_heading level0 row54\" >32</th>\n",
       "      <td id=\"T_0a56a_row54_col0\" class=\"data row54 col0\" >2464</td>\n",
       "      <td id=\"T_0a56a_row54_col1\" class=\"data row54 col1\" >2449</td>\n",
       "      <td id=\"T_0a56a_row54_col2\" class=\"data row54 col2\" >2429</td>\n",
       "      <td id=\"T_0a56a_row54_col3\" class=\"data row54 col3\" >7342</td>\n",
       "      <td id=\"T_0a56a_row54_col4\" class=\"data row54 col4\" >0.655878</td>\n",
       "    </tr>\n",
       "    <tr>\n",
       "      <th id=\"T_0a56a_level0_row55\" class=\"row_heading level0 row55\" >21</th>\n",
       "      <td id=\"T_0a56a_row55_col0\" class=\"data row55 col0\" >5930</td>\n",
       "      <td id=\"T_0a56a_row55_col1\" class=\"data row55 col1\" >5996</td>\n",
       "      <td id=\"T_0a56a_row55_col2\" class=\"data row55 col2\" >5924</td>\n",
       "      <td id=\"T_0a56a_row55_col3\" class=\"data row55 col3\" >17850</td>\n",
       "      <td id=\"T_0a56a_row55_col4\" class=\"data row55 col4\" >0.685566</td>\n",
       "    </tr>\n",
       "    <tr>\n",
       "      <th id=\"T_0a56a_level0_row56\" class=\"row_heading level0 row56\" >45</th>\n",
       "      <td id=\"T_0a56a_row56_col0\" class=\"data row56 col0\" >2615</td>\n",
       "      <td id=\"T_0a56a_row56_col1\" class=\"data row56 col1\" >2723</td>\n",
       "      <td id=\"T_0a56a_row56_col2\" class=\"data row56 col2\" >2643</td>\n",
       "      <td id=\"T_0a56a_row56_col3\" class=\"data row56 col3\" >7981</td>\n",
       "      <td id=\"T_0a56a_row56_col4\" class=\"data row56 col4\" >0.686465</td>\n",
       "    </tr>\n",
       "    <tr>\n",
       "      <th id=\"T_0a56a_level0_row57\" class=\"row_heading level0 row57\" >61</th>\n",
       "      <td id=\"T_0a56a_row57_col0\" class=\"data row57 col0\" >370</td>\n",
       "      <td id=\"T_0a56a_row57_col1\" class=\"data row57 col1\" >383</td>\n",
       "      <td id=\"T_0a56a_row57_col2\" class=\"data row57 col2\" >386</td>\n",
       "      <td id=\"T_0a56a_row57_col3\" class=\"data row57 col3\" >1139</td>\n",
       "      <td id=\"T_0a56a_row57_col4\" class=\"data row57 col4\" >0.706081</td>\n",
       "    </tr>\n",
       "    <tr>\n",
       "      <th id=\"T_0a56a_level0_row58\" class=\"row_heading level0 row58\" >34</th>\n",
       "      <td id=\"T_0a56a_row58_col0\" class=\"data row58 col0\" >263</td>\n",
       "      <td id=\"T_0a56a_row58_col1\" class=\"data row58 col1\" >273</td>\n",
       "      <td id=\"T_0a56a_row58_col2\" class=\"data row58 col2\" >260</td>\n",
       "      <td id=\"T_0a56a_row58_col3\" class=\"data row58 col3\" >796</td>\n",
       "      <td id=\"T_0a56a_row58_col4\" class=\"data row58 col4\" >0.707055</td>\n",
       "    </tr>\n",
       "    <tr>\n",
       "      <th id=\"T_0a56a_level0_row59\" class=\"row_heading level0 row59\" >49</th>\n",
       "      <td id=\"T_0a56a_row59_col0\" class=\"data row59 col0\" >9023</td>\n",
       "      <td id=\"T_0a56a_row59_col1\" class=\"data row59 col1\" >9151</td>\n",
       "      <td id=\"T_0a56a_row59_col2\" class=\"data row59 col2\" >9043</td>\n",
       "      <td id=\"T_0a56a_row59_col3\" class=\"data row59 col3\" >27217</td>\n",
       "      <td id=\"T_0a56a_row59_col4\" class=\"data row59 col4\" >0.709231</td>\n",
       "    </tr>\n",
       "    <tr>\n",
       "      <th id=\"T_0a56a_level0_row60\" class=\"row_heading level0 row60\" >39</th>\n",
       "      <td id=\"T_0a56a_row60_col0\" class=\"data row60 col0\" >31972</td>\n",
       "      <td id=\"T_0a56a_row60_col1\" class=\"data row60 col1\" >31800</td>\n",
       "      <td id=\"T_0a56a_row60_col2\" class=\"data row60 col2\" >31963</td>\n",
       "      <td id=\"T_0a56a_row60_col3\" class=\"data row60 col3\" >95735</td>\n",
       "      <td id=\"T_0a56a_row60_col4\" class=\"data row60 col4\" >0.726597</td>\n",
       "    </tr>\n",
       "    <tr>\n",
       "      <th id=\"T_0a56a_level0_row61\" class=\"row_heading level0 row61\" >62</th>\n",
       "      <td id=\"T_0a56a_row61_col0\" class=\"data row61 col0\" >10443</td>\n",
       "      <td id=\"T_0a56a_row61_col1\" class=\"data row61 col1\" >10378</td>\n",
       "      <td id=\"T_0a56a_row61_col2\" class=\"data row61 col2\" >10453</td>\n",
       "      <td id=\"T_0a56a_row61_col3\" class=\"data row61 col3\" >31274</td>\n",
       "      <td id=\"T_0a56a_row61_col4\" class=\"data row61 col4\" >0.736968</td>\n",
       "    </tr>\n",
       "    <tr>\n",
       "      <th id=\"T_0a56a_level0_row62\" class=\"row_heading level0 row62\" >44</th>\n",
       "      <td id=\"T_0a56a_row62_col0\" class=\"data row62 col0\" >1655</td>\n",
       "      <td id=\"T_0a56a_row62_col1\" class=\"data row62 col1\" >1570</td>\n",
       "      <td id=\"T_0a56a_row62_col2\" class=\"data row62 col2\" >1597</td>\n",
       "      <td id=\"T_0a56a_row62_col3\" class=\"data row62 col3\" >4822</td>\n",
       "      <td id=\"T_0a56a_row62_col4\" class=\"data row62 col4\" >0.760009</td>\n",
       "    </tr>\n",
       "    <tr>\n",
       "      <th id=\"T_0a56a_level0_row63\" class=\"row_heading level0 row63\" >83</th>\n",
       "      <td id=\"T_0a56a_row63_col0\" class=\"data row63 col0\" >1382</td>\n",
       "      <td id=\"T_0a56a_row63_col1\" class=\"data row63 col1\" >1387</td>\n",
       "      <td id=\"T_0a56a_row63_col2\" class=\"data row63 col2\" >1372</td>\n",
       "      <td id=\"T_0a56a_row63_col3\" class=\"data row63 col3\" >4141</td>\n",
       "      <td id=\"T_0a56a_row63_col4\" class=\"data row63 col4\" >0.792009</td>\n",
       "    </tr>\n",
       "    <tr>\n",
       "      <th id=\"T_0a56a_level0_row64\" class=\"row_heading level0 row64\" >80</th>\n",
       "      <td id=\"T_0a56a_row64_col0\" class=\"data row64 col0\" >2187</td>\n",
       "      <td id=\"T_0a56a_row64_col1\" class=\"data row64 col1\" >2220</td>\n",
       "      <td id=\"T_0a56a_row64_col2\" class=\"data row64 col2\" >2219</td>\n",
       "      <td id=\"T_0a56a_row64_col3\" class=\"data row64 col3\" >6626</td>\n",
       "      <td id=\"T_0a56a_row64_col4\" class=\"data row64 col4\" >0.794399</td>\n",
       "    </tr>\n",
       "    <tr>\n",
       "      <th id=\"T_0a56a_level0_row65\" class=\"row_heading level0 row65\" >33</th>\n",
       "      <td id=\"T_0a56a_row65_col0\" class=\"data row65 col0\" >5055</td>\n",
       "      <td id=\"T_0a56a_row65_col1\" class=\"data row65 col1\" >5101</td>\n",
       "      <td id=\"T_0a56a_row65_col2\" class=\"data row65 col2\" >5101</td>\n",
       "      <td id=\"T_0a56a_row65_col3\" class=\"data row65 col3\" >15257</td>\n",
       "      <td id=\"T_0a56a_row65_col4\" class=\"data row65 col4\" >0.796708</td>\n",
       "    </tr>\n",
       "    <tr>\n",
       "      <th id=\"T_0a56a_level0_row66\" class=\"row_heading level0 row66\" >53</th>\n",
       "      <td id=\"T_0a56a_row66_col0\" class=\"data row66 col0\" >3856</td>\n",
       "      <td id=\"T_0a56a_row66_col1\" class=\"data row66 col1\" >3853</td>\n",
       "      <td id=\"T_0a56a_row66_col2\" class=\"data row66 col2\" >3874</td>\n",
       "      <td id=\"T_0a56a_row66_col3\" class=\"data row66 col3\" >11583</td>\n",
       "      <td id=\"T_0a56a_row66_col4\" class=\"data row66 col4\" >0.797774</td>\n",
       "    </tr>\n",
       "    <tr>\n",
       "      <th id=\"T_0a56a_level0_row67\" class=\"row_heading level0 row67\" >35</th>\n",
       "      <td id=\"T_0a56a_row67_col0\" class=\"data row67 col0\" >2597</td>\n",
       "      <td id=\"T_0a56a_row67_col1\" class=\"data row67 col1\" >2628</td>\n",
       "      <td id=\"T_0a56a_row67_col2\" class=\"data row67 col2\" >2597</td>\n",
       "      <td id=\"T_0a56a_row67_col3\" class=\"data row67 col3\" >7822</td>\n",
       "      <td id=\"T_0a56a_row67_col4\" class=\"data row67 col4\" >0.810450</td>\n",
       "    </tr>\n",
       "    <tr>\n",
       "      <th id=\"T_0a56a_level0_row68\" class=\"row_heading level0 row68\" >85</th>\n",
       "      <td id=\"T_0a56a_row68_col0\" class=\"data row68 col0\" >1312</td>\n",
       "      <td id=\"T_0a56a_row68_col1\" class=\"data row68 col1\" >1281</td>\n",
       "      <td id=\"T_0a56a_row68_col2\" class=\"data row68 col2\" >1286</td>\n",
       "      <td id=\"T_0a56a_row68_col3\" class=\"data row68 col3\" >3879</td>\n",
       "      <td id=\"T_0a56a_row68_col4\" class=\"data row68 col4\" >0.824792</td>\n",
       "    </tr>\n",
       "    <tr>\n",
       "      <th id=\"T_0a56a_level0_row69\" class=\"row_heading level0 row69\" >23</th>\n",
       "      <td id=\"T_0a56a_row69_col0\" class=\"data row69 col0\" >1595</td>\n",
       "      <td id=\"T_0a56a_row69_col1\" class=\"data row69 col1\" >1625</td>\n",
       "      <td id=\"T_0a56a_row69_col2\" class=\"data row69 col2\" >1599</td>\n",
       "      <td id=\"T_0a56a_row69_col3\" class=\"data row69 col3\" >4819</td>\n",
       "      <td id=\"T_0a56a_row69_col4\" class=\"data row69 col4\" >0.830629</td>\n",
       "    </tr>\n",
       "    <tr>\n",
       "      <th id=\"T_0a56a_level0_row70\" class=\"row_heading level0 row70\" >55</th>\n",
       "      <td id=\"T_0a56a_row70_col0\" class=\"data row70 col0\" >3939</td>\n",
       "      <td id=\"T_0a56a_row70_col1\" class=\"data row70 col1\" >3922</td>\n",
       "      <td id=\"T_0a56a_row70_col2\" class=\"data row70 col2\" >3915</td>\n",
       "      <td id=\"T_0a56a_row70_col3\" class=\"data row70 col3\" >11776</td>\n",
       "      <td id=\"T_0a56a_row70_col4\" class=\"data row70 col4\" >0.845019</td>\n",
       "    </tr>\n",
       "    <tr>\n",
       "      <th id=\"T_0a56a_level0_row71\" class=\"row_heading level0 row71\" >29</th>\n",
       "      <td id=\"T_0a56a_row71_col0\" class=\"data row71 col0\" >1276</td>\n",
       "      <td id=\"T_0a56a_row71_col1\" class=\"data row71 col1\" >1208</td>\n",
       "      <td id=\"T_0a56a_row71_col2\" class=\"data row71 col2\" >1235</td>\n",
       "      <td id=\"T_0a56a_row71_col3\" class=\"data row71 col3\" >3719</td>\n",
       "      <td id=\"T_0a56a_row71_col4\" class=\"data row71 col4\" >0.875633</td>\n",
       "    </tr>\n",
       "    <tr>\n",
       "      <th id=\"T_0a56a_level0_row72\" class=\"row_heading level0 row72\" >28</th>\n",
       "      <td id=\"T_0a56a_row72_col0\" class=\"data row72 col0\" >27336</td>\n",
       "      <td id=\"T_0a56a_row72_col1\" class=\"data row72 col1\" >27107</td>\n",
       "      <td id=\"T_0a56a_row72_col2\" class=\"data row72 col2\" >27249</td>\n",
       "      <td id=\"T_0a56a_row72_col3\" class=\"data row72 col3\" >81692</td>\n",
       "      <td id=\"T_0a56a_row72_col4\" class=\"data row72 col4\" >0.893723</td>\n",
       "    </tr>\n",
       "    <tr>\n",
       "      <th id=\"T_0a56a_level0_row73\" class=\"row_heading level0 row73\" >18</th>\n",
       "      <td id=\"T_0a56a_row73_col0\" class=\"data row73 col0\" >6351</td>\n",
       "      <td id=\"T_0a56a_row73_col1\" class=\"data row73 col1\" >6324</td>\n",
       "      <td id=\"T_0a56a_row73_col2\" class=\"data row73 col2\" >6350</td>\n",
       "      <td id=\"T_0a56a_row73_col3\" class=\"data row73 col3\" >19025</td>\n",
       "      <td id=\"T_0a56a_row73_col4\" class=\"data row73 col4\" >0.902078</td>\n",
       "    </tr>\n",
       "    <tr>\n",
       "      <th id=\"T_0a56a_level0_row74\" class=\"row_heading level0 row74\" >4</th>\n",
       "      <td id=\"T_0a56a_row74_col0\" class=\"data row74 col0\" >3093</td>\n",
       "      <td id=\"T_0a56a_row74_col1\" class=\"data row74 col1\" >3161</td>\n",
       "      <td id=\"T_0a56a_row74_col2\" class=\"data row74 col2\" >3118</td>\n",
       "      <td id=\"T_0a56a_row74_col3\" class=\"data row74 col3\" >9372</td>\n",
       "      <td id=\"T_0a56a_row74_col4\" class=\"data row74 col4\" >0.904074</td>\n",
       "    </tr>\n",
       "    <tr>\n",
       "      <th id=\"T_0a56a_level0_row75\" class=\"row_heading level0 row75\" >64</th>\n",
       "      <td id=\"T_0a56a_row75_col0\" class=\"data row75 col0\" >2711</td>\n",
       "      <td id=\"T_0a56a_row75_col1\" class=\"data row75 col1\" >2761</td>\n",
       "      <td id=\"T_0a56a_row75_col2\" class=\"data row75 col2\" >2728</td>\n",
       "      <td id=\"T_0a56a_row75_col3\" class=\"data row75 col3\" >8200</td>\n",
       "      <td id=\"T_0a56a_row75_col4\" class=\"data row75 col4\" >0.906760</td>\n",
       "    </tr>\n",
       "    <tr>\n",
       "      <th id=\"T_0a56a_level0_row76\" class=\"row_heading level0 row76\" >81</th>\n",
       "      <td id=\"T_0a56a_row76_col0\" class=\"data row76 col0\" >7510</td>\n",
       "      <td id=\"T_0a56a_row76_col1\" class=\"data row76 col1\" >7492</td>\n",
       "      <td id=\"T_0a56a_row76_col2\" class=\"data row76 col2\" >7512</td>\n",
       "      <td id=\"T_0a56a_row76_col3\" class=\"data row76 col3\" >22514</td>\n",
       "      <td id=\"T_0a56a_row76_col4\" class=\"data row76 col4\" >0.921167</td>\n",
       "    </tr>\n",
       "    <tr>\n",
       "      <th id=\"T_0a56a_level0_row77\" class=\"row_heading level0 row77\" >3</th>\n",
       "      <td id=\"T_0a56a_row77_col0\" class=\"data row77 col0\" >764</td>\n",
       "      <td id=\"T_0a56a_row77_col1\" class=\"data row77 col1\" >761</td>\n",
       "      <td id=\"T_0a56a_row77_col2\" class=\"data row77 col2\" >759</td>\n",
       "      <td id=\"T_0a56a_row77_col3\" class=\"data row77 col3\" >2284</td>\n",
       "      <td id=\"T_0a56a_row77_col4\" class=\"data row77 col4\" >0.929270</td>\n",
       "    </tr>\n",
       "    <tr>\n",
       "      <th id=\"T_0a56a_level0_row78\" class=\"row_heading level0 row78\" >72</th>\n",
       "      <td id=\"T_0a56a_row78_col0\" class=\"data row78 col0\" >73</td>\n",
       "      <td id=\"T_0a56a_row78_col1\" class=\"data row78 col1\" >83</td>\n",
       "      <td id=\"T_0a56a_row78_col2\" class=\"data row78 col2\" >79</td>\n",
       "      <td id=\"T_0a56a_row78_col3\" class=\"data row78 col3\" >235</td>\n",
       "      <td id=\"T_0a56a_row78_col4\" class=\"data row78 col4\" >0.944863</td>\n",
       "    </tr>\n",
       "    <tr>\n",
       "      <th id=\"T_0a56a_level0_row79\" class=\"row_heading level0 row79\" >1</th>\n",
       "      <td id=\"T_0a56a_row79_col0\" class=\"data row79 col0\" >6237</td>\n",
       "      <td id=\"T_0a56a_row79_col1\" class=\"data row79 col1\" >6326</td>\n",
       "      <td id=\"T_0a56a_row79_col2\" class=\"data row79 col2\" >6277</td>\n",
       "      <td id=\"T_0a56a_row79_col3\" class=\"data row79 col3\" >18840</td>\n",
       "      <td id=\"T_0a56a_row79_col4\" class=\"data row79 col4\" >0.969180</td>\n",
       "    </tr>\n",
       "    <tr>\n",
       "      <th id=\"T_0a56a_level0_row80\" class=\"row_heading level0 row80\" >58</th>\n",
       "      <td id=\"T_0a56a_row80_col0\" class=\"data row80 col0\" >1544</td>\n",
       "      <td id=\"T_0a56a_row80_col1\" class=\"data row80 col1\" >1560</td>\n",
       "      <td id=\"T_0a56a_row80_col2\" class=\"data row80 col2\" >1550</td>\n",
       "      <td id=\"T_0a56a_row80_col3\" class=\"data row80 col3\" >4654</td>\n",
       "      <td id=\"T_0a56a_row80_col4\" class=\"data row80 col4\" >0.975195</td>\n",
       "    </tr>\n",
       "    <tr>\n",
       "      <th id=\"T_0a56a_level0_row81\" class=\"row_heading level0 row81\" >30</th>\n",
       "      <td id=\"T_0a56a_row81_col0\" class=\"data row81 col0\" >1608</td>\n",
       "      <td id=\"T_0a56a_row81_col1\" class=\"data row81 col1\" >1534</td>\n",
       "      <td id=\"T_0a56a_row81_col2\" class=\"data row81 col2\" >1569</td>\n",
       "      <td id=\"T_0a56a_row81_col3\" class=\"data row81 col3\" >4711</td>\n",
       "      <td id=\"T_0a56a_row81_col4\" class=\"data row81 col4\" >0.975346</td>\n",
       "    </tr>\n",
       "    <tr>\n",
       "      <th id=\"T_0a56a_level0_row82\" class=\"row_heading level0 row82\" >46</th>\n",
       "      <td id=\"T_0a56a_row82_col0\" class=\"data row82 col0\" >4796</td>\n",
       "      <td id=\"T_0a56a_row82_col1\" class=\"data row82 col1\" >4749</td>\n",
       "      <td id=\"T_0a56a_row82_col2\" class=\"data row82 col2\" >4775</td>\n",
       "      <td id=\"T_0a56a_row82_col3\" class=\"data row82 col3\" >14320</td>\n",
       "      <td id=\"T_0a56a_row82_col4\" class=\"data row82 col4\" >0.978787</td>\n",
       "    </tr>\n",
       "    <tr>\n",
       "      <th id=\"T_0a56a_level0_row83\" class=\"row_heading level0 row83\" >71</th>\n",
       "      <td id=\"T_0a56a_row83_col0\" class=\"data row83 col0\" >4902</td>\n",
       "      <td id=\"T_0a56a_row83_col1\" class=\"data row83 col1\" >4822</td>\n",
       "      <td id=\"T_0a56a_row83_col2\" class=\"data row83 col2\" >4859</td>\n",
       "      <td id=\"T_0a56a_row83_col3\" class=\"data row83 col3\" >14583</td>\n",
       "      <td id=\"T_0a56a_row83_col4\" class=\"data row83 col4\" >0.978979</td>\n",
       "    </tr>\n",
       "    <tr>\n",
       "      <th id=\"T_0a56a_level0_row84\" class=\"row_heading level0 row84\" >76</th>\n",
       "      <td id=\"T_0a56a_row84_col0\" class=\"data row84 col0\" >455</td>\n",
       "      <td id=\"T_0a56a_row84_col1\" class=\"data row84 col1\" >446</td>\n",
       "      <td id=\"T_0a56a_row84_col2\" class=\"data row84 col2\" >450</td>\n",
       "      <td id=\"T_0a56a_row84_col3\" class=\"data row84 col3\" >1351</td>\n",
       "      <td id=\"T_0a56a_row84_col4\" class=\"data row84 col4\" >1.000000</td>\n",
       "    </tr>\n",
       "  </tbody>\n",
       "</table>\n"
      ],
      "text/plain": [
       "<pandas.io.formats.style.Styler at 0x1e941645f60>"
      ]
     },
     "execution_count": 22,
     "metadata": {},
     "output_type": "execute_result"
    }
   ],
   "source": [
    "groups_by_region['pvalue'] = list(map(lambda x,y: binomtest(x, n=y, p=1/3).pvalue,\n",
    "                                      groups_by_region['user_id']['no_discount'],\n",
    "                                      groups_by_region['sum']))\n",
    "groups_by_region.sort_values('pvalue').style.applymap(lambda x: f\"background-color: {'orange' if x < 0.05 else None}\",\n",
    "                                                      subset=pd.IndexSlice[:, ['pvalue']])"
   ]
  },
  {
   "cell_type": "markdown",
   "metadata": {},
   "source": [
    "Внутри почти всех регионов распределение равномерное."
   ]
  },
  {
   "cell_type": "markdown",
   "metadata": {},
   "source": [
    "#### По количеству"
   ]
  },
  {
   "cell_type": "code",
   "execution_count": 23,
   "metadata": {},
   "outputs": [
    {
     "data": {
      "text/html": [
       "<div>\n",
       "<style scoped>\n",
       "    .dataframe tbody tr th:only-of-type {\n",
       "        vertical-align: middle;\n",
       "    }\n",
       "\n",
       "    .dataframe tbody tr th {\n",
       "        vertical-align: top;\n",
       "    }\n",
       "\n",
       "    .dataframe thead th {\n",
       "        text-align: right;\n",
       "    }\n",
       "</style>\n",
       "<table border=\"1\" class=\"dataframe\">\n",
       "  <thead>\n",
       "    <tr style=\"text-align: right;\">\n",
       "      <th></th>\n",
       "      <th>user_id</th>\n",
       "    </tr>\n",
       "    <tr>\n",
       "      <th>experiment_group</th>\n",
       "      <th></th>\n",
       "    </tr>\n",
       "  </thead>\n",
       "  <tbody>\n",
       "    <tr>\n",
       "      <th>30_discount</th>\n",
       "      <td>253663</td>\n",
       "    </tr>\n",
       "    <tr>\n",
       "      <th>60_discount</th>\n",
       "      <td>253441</td>\n",
       "    </tr>\n",
       "    <tr>\n",
       "      <th>no_discount</th>\n",
       "      <td>255626</td>\n",
       "    </tr>\n",
       "  </tbody>\n",
       "</table>\n",
       "</div>"
      ],
      "text/plain": [
       "                  user_id\n",
       "experiment_group         \n",
       "30_discount        253663\n",
       "60_discount        253441\n",
       "no_discount        255626"
      ]
     },
     "execution_count": 23,
     "metadata": {},
     "output_type": "execute_result"
    }
   ],
   "source": [
    "groups_sizes = groups.groupby(by=['experiment_group'])[[\"user_id\"]].nunique()\n",
    "groups_sizes"
   ]
  },
  {
   "cell_type": "markdown",
   "metadata": {},
   "source": [
    "Визуально разница незаметна."
   ]
  },
  {
   "cell_type": "markdown",
   "metadata": {},
   "source": [
    "Построим критерий для определения, могли полученные значения быть из полиномиального распределения.\n",
    "\n",
    "Введем статистику $Q(x) = max(x) - min(x)$. Посмотрим как она выглядит при верной нулевой гипотезе. То есть, когда общее число элементов такое же, как в нашем случае $n = 253663+253441+255626$, а вероятности попадания в каждый из классов равны $\\frac{1}{3}$."
   ]
  },
  {
   "cell_type": "code",
   "execution_count": 24,
   "metadata": {},
   "outputs": [],
   "source": [
    "def get_q_stat(x):            \n",
    "    return max(x) - min(x)\n",
    "\n",
    "n = sum(groups_sizes.user_id)\n",
    "\n",
    "np.random.seed(42)\n",
    "n_samples = 100000\n",
    "\n",
    "p_H0 = np.array([1/3, 1/3, 1/3])\n",
    "\n",
    "how_q_statistics_look_like_when_H0 = []\n",
    "for i in range(n_samples):\n",
    "    x = multinomial.rvs(n=n, p=p_H0)\n",
    "    how_q_statistics_look_like_when_H0.append(get_q_stat(x))"
   ]
  },
  {
   "cell_type": "code",
   "execution_count": 25,
   "metadata": {
    "scrolled": false
   },
   "outputs": [
    {
     "data": {
      "text/plain": [
       "<Axes: ylabel='Count'>"
      ]
     },
     "execution_count": 25,
     "metadata": {},
     "output_type": "execute_result"
    },
    {
     "data": {
      "image/png": "[encoded data removed]",
      "text/plain": [
       "<Figure size 640x480 with 1 Axes>"
      ]
     },
     "metadata": {},
     "output_type": "display_data"
    }
   ],
   "source": [
    "sns.histplot(how_q_statistics_look_like_when_H0)"
   ]
  },
  {
   "cell_type": "markdown",
   "metadata": {},
   "source": [
    "Определим по этому эмпирическому распределению границу отвержения, то есть 95ю квантиль."
   ]
  },
  {
   "cell_type": "code",
   "execution_count": 26,
   "metadata": {},
   "outputs": [
    {
     "data": {
      "text/plain": [
       "1671"
      ]
     },
     "execution_count": 26,
     "metadata": {},
     "output_type": "execute_result"
    }
   ],
   "source": [
    "critical_value = sorted(how_q_statistics_look_like_when_H0)[math.floor(n_samples * 0.95 - 1)] + 1\n",
    "critical_value"
   ]
  },
  {
   "cell_type": "markdown",
   "metadata": {},
   "source": [
    "С помощью МК проверм, что полученный критерий работает. То есть ошибка первого рода не превосходит 0.05"
   ]
  },
  {
   "cell_type": "code",
   "execution_count": 27,
   "metadata": {},
   "outputs": [
    {
     "name": "stdout",
     "output_type": "stream",
     "text": [
      "alpha is 0.050\n"
     ]
    }
   ],
   "source": [
    "np.random.seed(42)\n",
    "false_positives = 0\n",
    "true_negatives = 0\n",
    "\n",
    "q_statistics = []\n",
    "for i in range(n_samples):\n",
    "    x = multinomial.rvs(n=n, p=p_H0)\n",
    "    q = get_q_stat(x)\n",
    "    \n",
    "    if q >= critical_value:\n",
    "        false_positives += 1\n",
    "    else:\n",
    "        true_negatives += 1\n",
    "        \n",
    "print(f'alpha is {false_positives / (false_positives + true_negatives):.3f}')"
   ]
  },
  {
   "cell_type": "markdown",
   "metadata": {},
   "source": [
    "Все в порядке. Посмотрим также на мощность."
   ]
  },
  {
   "cell_type": "code",
   "execution_count": 28,
   "metadata": {},
   "outputs": [
    {
     "name": "stdout",
     "output_type": "stream",
     "text": [
      "power is 0.469\n"
     ]
    }
   ],
   "source": [
    "np.random.seed(42)\n",
    "true_positives = 0\n",
    "false_negatives = 0\n",
    "\n",
    "for i in range(n_samples):\n",
    "    shift = [0.001, -0.001, 0]\n",
    "    np.random.shuffle(shift)\n",
    "    p_H1 = p_H0 = np.array([1/3, 1/3, 1/3]) - shift\n",
    "    \n",
    "    x = multinomial.rvs(n=n, p=p_H1)\n",
    "    q = get_q_stat(x)\n",
    "    if q >= critical_value:\n",
    "        true_positives += 1\n",
    "    else:\n",
    "        false_negatives += 1\n",
    "    \n",
    "print(f'power is {true_positives / (true_positives + false_negatives):.3f}')"
   ]
  },
  {
   "cell_type": "markdown",
   "metadata": {},
   "source": [
    "Применим полученный критерий к наему случаю."
   ]
  },
  {
   "cell_type": "code",
   "execution_count": 29,
   "metadata": {},
   "outputs": [
    {
     "data": {
      "text/plain": [
       "(2185, 1671)"
      ]
     },
     "execution_count": 29,
     "metadata": {},
     "output_type": "execute_result"
    }
   ],
   "source": [
    "get_q_stat(groups_sizes.user_id), critical_value"
   ]
  },
  {
   "cell_type": "code",
   "execution_count": 30,
   "metadata": {},
   "outputs": [
    {
     "data": {
      "text/plain": [
       "True"
      ]
     },
     "execution_count": 30,
     "metadata": {},
     "output_type": "execute_result"
    }
   ],
   "source": [
    "get_q_stat(groups_sizes.user_id) > critical_value"
   ]
  },
  {
   "cell_type": "markdown",
   "metadata": {},
   "source": [
    "Критерий отвергает гипотезу о том, что люди в группах распределены равномерно по кол-ву."
   ]
  },
  {
   "cell_type": "markdown",
   "metadata": {},
   "source": [
    "### AA тесты\n",
    "\n",
    "Проверим гипотезы 3-6 на данных до теста. Гипотезы 1 и 2 проверить не можем, так как нет данных о прохождении верификаций до даты начала эксперимента."
   ]
  },
  {
   "cell_type": "code",
   "execution_count": 31,
   "metadata": {},
   "outputs": [],
   "source": [
    "# аггрегация данных\n",
    "payments_agg = payments_before.merge(groups, on='user_id', how='right')[['user_id', 'amount_net', 'experiment_group']]\n",
    "\n",
    "payments_agg = payments_agg.groupby(['user_id', 'experiment_group']).agg({'amount_net': ['sum', 'count']})\n",
    "\n",
    "payments_agg = payments_agg.reset_index('experiment_group')\n",
    "\n",
    "payments_agg.columns = ['experiment_group', 'p_sum', 'p_count']"
   ]
  },
  {
   "cell_type": "code",
   "execution_count": 32,
   "metadata": {},
   "outputs": [
    {
     "data": {
      "text/html": [
       "<div>\n",
       "<style scoped>\n",
       "    .dataframe tbody tr th:only-of-type {\n",
       "        vertical-align: middle;\n",
       "    }\n",
       "\n",
       "    .dataframe tbody tr th {\n",
       "        vertical-align: top;\n",
       "    }\n",
       "\n",
       "    .dataframe thead th {\n",
       "        text-align: right;\n",
       "    }\n",
       "</style>\n",
       "<table border=\"1\" class=\"dataframe\">\n",
       "  <thead>\n",
       "    <tr style=\"text-align: right;\">\n",
       "      <th></th>\n",
       "      <th>experiment_group</th>\n",
       "      <th>p_sum</th>\n",
       "      <th>p_count</th>\n",
       "    </tr>\n",
       "    <tr>\n",
       "      <th>user_id</th>\n",
       "      <th></th>\n",
       "      <th></th>\n",
       "      <th></th>\n",
       "    </tr>\n",
       "  </thead>\n",
       "  <tbody>\n",
       "    <tr>\n",
       "      <th>1</th>\n",
       "      <td>60_discount</td>\n",
       "      <td>0.000000</td>\n",
       "      <td>0</td>\n",
       "    </tr>\n",
       "    <tr>\n",
       "      <th>16</th>\n",
       "      <td>no_discount</td>\n",
       "      <td>0.000000</td>\n",
       "      <td>0</td>\n",
       "    </tr>\n",
       "    <tr>\n",
       "      <th>101</th>\n",
       "      <td>no_discount</td>\n",
       "      <td>384.769231</td>\n",
       "      <td>14</td>\n",
       "    </tr>\n",
       "    <tr>\n",
       "      <th>128</th>\n",
       "      <td>no_discount</td>\n",
       "      <td>0.000000</td>\n",
       "      <td>0</td>\n",
       "    </tr>\n",
       "    <tr>\n",
       "      <th>173</th>\n",
       "      <td>no_discount</td>\n",
       "      <td>20.230769</td>\n",
       "      <td>1</td>\n",
       "    </tr>\n",
       "  </tbody>\n",
       "</table>\n",
       "</div>"
      ],
      "text/plain": [
       "        experiment_group       p_sum  p_count\n",
       "user_id                                      \n",
       "1            60_discount    0.000000        0\n",
       "16           no_discount    0.000000        0\n",
       "101          no_discount  384.769231       14\n",
       "128          no_discount    0.000000        0\n",
       "173          no_discount   20.230769        1"
      ]
     },
     "execution_count": 32,
     "metadata": {},
     "output_type": "execute_result"
    }
   ],
   "source": [
    "payments_agg.head()"
   ]
  },
  {
   "cell_type": "markdown",
   "metadata": {},
   "source": [
    "Поллучили кол-во и сумму транзакций по каждому пользователю. Поделим на экспериментальные группы. Выделяем группу со скидкй 30, со скидкой 60, без скидки и с любой скидкой.\n",
    "\n",
    "С помощью t-test проверяем равенство среднего по пользователям значения суммы и кол-ва покупок в разных группах в соответствии с гипотезами. Нужно так же учесть поправку на множественную проверку гипотез."
   ]
  },
  {
   "cell_type": "code",
   "execution_count": 33,
   "metadata": {},
   "outputs": [],
   "source": [
    "group_no = payments_agg[payments_agg['experiment_group'] == 'no_discount']\n",
    "group_disc = payments_agg[payments_agg['experiment_group'] != 'no_discount']\n",
    "group_30 = payments_agg[payments_agg['experiment_group'] == '30_discount']\n",
    "group_60 = payments_agg[payments_agg['experiment_group'] == '60_discount']"
   ]
  },
  {
   "cell_type": "code",
   "execution_count": 34,
   "metadata": {},
   "outputs": [],
   "source": [
    "p_values = []\n",
    "p_values.append(ttest_ind(group_no['p_sum'], group_disc['p_sum'])[1])     # H3\n",
    "p_values.append(ttest_ind(group_no['p_count'], group_disc['p_count'])[1]) # H4\n",
    "p_values.append(ttest_ind(group_30['p_sum'], group_60['p_sum'])[1])       # H5\n",
    "p_values.append(ttest_ind(group_30['p_count'], group_60['p_count'])[1])   # H6"
   ]
  },
  {
   "cell_type": "code",
   "execution_count": 35,
   "metadata": {},
   "outputs": [
    {
     "data": {
      "text/plain": [
       "[0.1860901484918118,\n",
       " 0.17043593143896713,\n",
       " 0.2467690418035864,\n",
       " 0.1314000624902599]"
      ]
     },
     "execution_count": 35,
     "metadata": {},
     "output_type": "execute_result"
    }
   ],
   "source": [
    "p_values"
   ]
  },
  {
   "cell_type": "code",
   "execution_count": 36,
   "metadata": {},
   "outputs": [
    {
     "name": "stdout",
     "output_type": "stream",
     "text": [
      "[False False False False] [0.52560025 0.52560025 0.52560025 0.52560025]\n"
     ]
    }
   ],
   "source": [
    "reject, p_corrected, _, _ = multipletests(np.sort(p_values), alpha=0.05, method='holm')\n",
    "# выдает для каждой гипотезы H0_i, нужно ли ее _отклонить_\n",
    "\n",
    "print(reject, p_corrected)"
   ]
  },
  {
   "cell_type": "markdown",
   "metadata": {},
   "source": [
    "### Вывод по АА тестам:\n",
    "\n",
    "На АА тесте не отвергаются нулевые гипотезы для пунтктов 3-6, то есть средняя сумма и кол-во покупок совпадают для разных групп до начала эксперимента."
   ]
  },
  {
   "cell_type": "markdown",
   "metadata": {},
   "source": [
    "### AВ тесты"
   ]
  },
  {
   "cell_type": "markdown",
   "metadata": {},
   "source": [
    "Теперь проведем аналогичные действия, но уже на данных после начала эксперимента."
   ]
  },
  {
   "cell_type": "code",
   "execution_count": 37,
   "metadata": {},
   "outputs": [],
   "source": [
    "payments_agg = payments_after.merge(groups, on='user_id', how='right')[['user_id', 'amount_net', 'experiment_group']]\n",
    "\n",
    "payments_agg = payments_agg.groupby(['user_id', 'experiment_group']).agg({'amount_net': ['sum', 'count']})\n",
    "\n",
    "payments_agg = payments_agg.reset_index('experiment_group')\n",
    "\n",
    "payments_agg.columns = ['experiment_group', 'p_sum', 'p_count']"
   ]
  },
  {
   "cell_type": "code",
   "execution_count": 38,
   "metadata": {},
   "outputs": [],
   "source": [
    "group_no = payments_agg[payments_agg['experiment_group'] == 'no_discount']\n",
    "group_disc = payments_agg[payments_agg['experiment_group'] != 'no_discount']\n",
    "group_30 = payments_agg[payments_agg['experiment_group'] == '30_discount']\n",
    "group_60 = payments_agg[payments_agg['experiment_group'] == '60_discount']"
   ]
  },
  {
   "cell_type": "code",
   "execution_count": 39,
   "metadata": {},
   "outputs": [],
   "source": [
    "p_values = []\n",
    "p_values.append(ttest_ind(group_no['p_sum'], group_disc['p_sum'])[1])     # H3\n",
    "p_values.append(ttest_ind(group_no['p_count'], group_disc['p_count'])[1]) # H4\n",
    "p_values.append(ttest_ind(group_30['p_sum'], group_60['p_sum'])[1])       # H5\n",
    "p_values.append(ttest_ind(group_30['p_count'], group_60['p_count'])[1])   # H6"
   ]
  },
  {
   "cell_type": "code",
   "execution_count": 40,
   "metadata": {},
   "outputs": [
    {
     "data": {
      "text/plain": [
       "1365268.163077563"
      ]
     },
     "execution_count": 40,
     "metadata": {},
     "output_type": "execute_result"
    }
   ],
   "source": [
    "sum(group_60['p_sum']) - sum(group_30['p_sum'])"
   ]
  },
  {
   "cell_type": "code",
   "execution_count": 41,
   "metadata": {},
   "outputs": [
    {
     "data": {
      "text/plain": [
       "99423"
      ]
     },
     "execution_count": 41,
     "metadata": {},
     "output_type": "execute_result"
    }
   ],
   "source": [
    "sum(group_60['p_count']) - sum(group_30['p_count'])"
   ]
  },
  {
   "cell_type": "code",
   "execution_count": 42,
   "metadata": {},
   "outputs": [
    {
     "data": {
      "text/plain": [
       "-1936174.4230767377"
      ]
     },
     "execution_count": 42,
     "metadata": {},
     "output_type": "execute_result"
    }
   ],
   "source": [
    "sum(group_60['p_sum']) - sum(group_no['p_sum'])"
   ]
  },
  {
   "cell_type": "code",
   "execution_count": 43,
   "metadata": {},
   "outputs": [
    {
     "data": {
      "text/plain": [
       "-82505"
      ]
     },
     "execution_count": 43,
     "metadata": {},
     "output_type": "execute_result"
    }
   ],
   "source": [
    "sum(group_60['p_count']) - sum(group_no['p_count'])"
   ]
  },
  {
   "cell_type": "code",
   "execution_count": 44,
   "metadata": {},
   "outputs": [
    {
     "data": {
      "text/plain": [
       "[0.103257483771887,\n",
       " 0.10862601834711179,\n",
       " 0.2588790563345431,\n",
       " 0.10772285271354612]"
      ]
     },
     "execution_count": 44,
     "metadata": {},
     "output_type": "execute_result"
    }
   ],
   "source": [
    "p_values"
   ]
  },
  {
   "cell_type": "code",
   "execution_count": 45,
   "metadata": {},
   "outputs": [
    {
     "name": "stdout",
     "output_type": "stream",
     "text": [
      "[False False False False] [0.41302994 0.41302994 0.41302994 0.41302994]\n"
     ]
    }
   ],
   "source": [
    "reject, p_corrected, _, _ = multipletests(np.sort(p_values), alpha=0.05, method='holm')\n",
    "# выдает для каждой гипотезы H0_i, нужно ли ее _отклонить_\n",
    "\n",
    "print(reject, p_corrected)"
   ]
  },
  {
   "cell_type": "markdown",
   "metadata": {},
   "source": [
    "Получаем, что для группы со скидкой 60% и кол-во покупок и сумма больше, чем для группы со скидкой 30%, но меньше, чем для группы вообще без скидок. Но это изменение статистически не значимо, так как гипотезы о равенстве не отверглись."
   ]
  },
  {
   "cell_type": "markdown",
   "metadata": {},
   "source": [
    "Посмотрим теперь на верификации (гипотеза 1 и 2)"
   ]
  },
  {
   "cell_type": "code",
   "execution_count": 46,
   "metadata": {},
   "outputs": [],
   "source": [
    "verifications['is_verified'] = 1 - verifications['verification_day'].isna()"
   ]
  },
  {
   "cell_type": "code",
   "execution_count": 47,
   "metadata": {},
   "outputs": [],
   "source": [
    "group_no = verifications[verifications['experiment_group'] == 'no_discount']\n",
    "group_disc = verifications[verifications['experiment_group'] != 'no_discount']\n",
    "group_30 = verifications[verifications['experiment_group'] == '30_discount']\n",
    "group_60 = verifications[verifications['experiment_group'] == '60_discount']"
   ]
  },
  {
   "cell_type": "code",
   "execution_count": 48,
   "metadata": {},
   "outputs": [],
   "source": [
    "p_values = []\n",
    "p_values.append(ttest_ind(group_disc['is_verified'], group_no['is_verified'], alternative='greater')[1]) # H1\n",
    "p_values.append(ttest_ind(group_60['is_verified'], group_30['is_verified'], alternative='greater')[1])   # H2"
   ]
  },
  {
   "cell_type": "code",
   "execution_count": 49,
   "metadata": {},
   "outputs": [
    {
     "data": {
      "text/plain": [
       "[8.068507848270672e-26, 8.773531211434318e-12]"
      ]
     },
     "execution_count": 49,
     "metadata": {},
     "output_type": "execute_result"
    }
   ],
   "source": [
    "p_values"
   ]
  },
  {
   "cell_type": "code",
   "execution_count": 50,
   "metadata": {},
   "outputs": [
    {
     "name": "stdout",
     "output_type": "stream",
     "text": [
      "[ True  True] [1.61370157e-25 8.77353121e-12]\n"
     ]
    }
   ],
   "source": [
    "reject, p_corrected, _, _ = multipletests(np.sort(p_values), alpha=0.05, method='holm')\n",
    "# выдает для каждой гипотезы H0_i, нужно ли ее _отклонить_\n",
    "\n",
    "print(reject, p_corrected)"
   ]
  },
  {
   "cell_type": "markdown",
   "metadata": {},
   "source": [
    "Конверсия для групп со скидкой выросла.\n",
    "\n",
    "Конверсия для группы со скидкой 60% больше, чем для группы со скидкой 30%.\n",
    "\n",
    "Выручка и число транзакций значимо не поменялись."
   ]
  },
  {
   "cell_type": "markdown",
   "metadata": {},
   "source": [
    "### Вывод по АB тестам:\n",
    "\n",
    "На АB тесте также не отвергаются нулевые гипотезы для пунтктов 3-6, хоть изменения есть, но они статистически не значимы на уровне значимости 5%.\n",
    "\n",
    "При этом для гипотез 1 и 2 нулевые гипотезы отвергаются, то есть конверсия для групп со скидкой выросла, и конверсия для группы со скидкой 60% больше, чем для группы со скидкой 30%."
   ]
  },
  {
   "cell_type": "markdown",
   "metadata": {},
   "source": [
    "## Общий вывод"
   ]
  },
  {
   "cell_type": "markdown",
   "metadata": {},
   "source": [
    "<b>Формально:</b>\n",
    "\n",
    "Для пунктов 1 и 2 нулевые гипотезы отверглись.\n",
    "\n",
    "Для пунктов 3-6 не можем отвергнуть нулевую гипотезу о равенстве на уровне значимости 5%.\n",
    "\n",
    "<b>С точки зрения бизнеса:</b>\n",
    "\n",
    "Группа со скидкой 30% оказалась неудачной, конверсия в ней меньше, чем для группы со скидкой 60%, при этом выручка и число транзакций тоже меньше, но не статистически значимо.\n",
    "\n",
    "Группа со скидкой 60% немного просаживает метрики выручки и числа транзакций по сравнению с группой без скидки, но опять же не стат. значимо. Зато стат. значимо поднимает конверсию в верификацию.\n",
    "\n",
    "Таким образом, идею выдавать временную скидку в 60% за прохождение верификации можно считать удачной."
   ]
  }
 ],
 "metadata": {
  "kernelspec": {
   "display_name": "Python 3 (ipykernel)",
   "language": "python",
   "name": "python3"
  },
  "language_info": {
   "codemirror_mode": {
    "name": "ipython",
    "version": 3
   },
   "file_extension": ".py",
   "mimetype": "text/x-python",
   "name": "python",
   "nbconvert_exporter": "python",
   "pygments_lexer": "ipython3",
   "version": "3.10.9"
  }
 },
 "nbformat": 4,
 "nbformat_minor": 2
}
